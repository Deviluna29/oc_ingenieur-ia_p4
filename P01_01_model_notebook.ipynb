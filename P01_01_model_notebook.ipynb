{
 "cells": [
  {
   "cell_type": "code",
   "execution_count": 2,
   "metadata": {},
   "outputs": [],
   "source": [
    "%reload_ext autoreload\n",
    "%autoreload 2\n",
    "\n",
    "import gc\n",
    "import logging\n",
    "from functools import partial\n",
    "\n",
    "# numpy et pandas pour la manipulation du data\n",
    "import numpy as np\n",
    "import pandas as pd\n",
    "\n",
    "import plotly.express as px\n",
    "\n",
    "from lightgbm import LGBMClassifier\n",
    "\n",
    "# sklearn preprocessing pour traiter les variables catégorielles\n",
    "from sklearn.preprocessing import LabelEncoder\n",
    "from sklearn.experimental import enable_iterative_imputer\n",
    "from sklearn.base import ClassifierMixin, is_classifier\n",
    "from sklearn.dummy import DummyClassifier\n",
    "from sklearn import preprocessing, model_selection, linear_model, neighbors, metrics, datasets, impute, ensemble\n",
    "from sklearn.metrics import plot_confusion_matrix, plot_precision_recall_curve, plot_roc_curve, accuracy_score, mean_squared_error, r2_score\n",
    "from sklearn.linear_model import RidgeClassifier\n",
    "from lightgbm.sklearn import LGBMRegressor\n",
    "from sklearn.svm import SVC\n",
    "\n",
    "from imblearn.over_sampling import SMOTE\n",
    "\n",
    "from hyperopt import fmin, tpe, hp, anneal, Trials, space_eval\n",
    "\n",
    "# File system manangement\n",
    "import os\n",
    "\n",
    "# Suppress warnings\n",
    "import warnings\n",
    "warnings.filterwarnings('ignore')\n",
    "\n",
    "# matplotlib et seaborn pour tracer les graphes\n",
    "import matplotlib.pyplot as plt\n",
    "import seaborn as sns\n",
    "\n",
    "#autres librairies\n",
    "import missingno as msno\n",
    "\n",
    "# Import des modules contenant les fonctions utilitaires\n",
    "import src.my_module.data_helpers as dth"
   ]
  },
  {
   "cell_type": "code",
   "execution_count": 3,
   "metadata": {
    "collapsed": false,
    "jupyter": {
     "outputs_hidden": false
    },
    "pycharm": {
     "name": "#%%\n"
    }
   },
   "outputs": [
    {
     "name": "stdout",
     "output_type": "stream",
     "text": [
      "Le jeu de données contient : 356251 lignes et 798 colonnes\n",
      "\n"
     ]
    }
   ],
   "source": [
    "data = pd.read_csv('merge2.csv')\n",
    "dth.displayDataShape(\"Le jeu de données contient\", data)"
   ]
  },
  {
   "cell_type": "code",
   "execution_count": 4,
   "metadata": {
    "collapsed": false,
    "jupyter": {
     "outputs_hidden": false
    },
    "pycharm": {
     "name": "#%%\n"
    }
   },
   "outputs": [],
   "source": [
    "train_data = data[data['TARGET'].notnull()]\n",
    "test_data = data[data['TARGET'].isnull()]"
   ]
  },
  {
   "cell_type": "code",
   "execution_count": 5,
   "metadata": {
    "collapsed": false,
    "jupyter": {
     "outputs_hidden": false
    },
    "pycharm": {
     "name": "#%%\n"
    }
   },
   "outputs": [
    {
     "name": "stdout",
     "output_type": "stream",
     "text": [
      "Le jeu d'entraînement contient : 307507 lignes et 798 colonnes\n",
      "\n"
     ]
    }
   ],
   "source": [
    "dth.displayDataShape(\"Le jeu d'entraînement contient\", train_data)"
   ]
  },
  {
   "cell_type": "code",
   "execution_count": 6,
   "metadata": {
    "collapsed": false,
    "jupyter": {
     "outputs_hidden": false
    },
    "pycharm": {
     "name": "#%%\n"
    }
   },
   "outputs": [
    {
     "name": "stdout",
     "output_type": "stream",
     "text": [
      "Le jeu de test contient : 48744 lignes et 798 colonnes\n",
      "\n"
     ]
    }
   ],
   "source": [
    "dth.displayDataShape(\"Le jeu de test contient\", test_data)"
   ]
  },
  {
   "cell_type": "code",
   "execution_count": 7,
   "metadata": {
    "collapsed": false,
    "jupyter": {
     "outputs_hidden": false
    },
    "pycharm": {
     "name": "#%%\n"
    }
   },
   "outputs": [
    {
     "data": {
      "text/plain": [
       "0"
      ]
     },
     "execution_count": 7,
     "metadata": {},
     "output_type": "execute_result"
    }
   ],
   "source": [
    "del data\n",
    "gc.collect()"
   ]
  },
  {
   "cell_type": "code",
   "execution_count": 8,
   "metadata": {
    "collapsed": false,
    "jupyter": {
     "outputs_hidden": false
    },
    "pycharm": {
     "name": "#%%\n"
    }
   },
   "outputs": [
    {
     "data": {
      "text/html": [
       "<div>\n",
       "<style scoped>\n",
       "    .dataframe tbody tr th:only-of-type {\n",
       "        vertical-align: middle;\n",
       "    }\n",
       "\n",
       "    .dataframe tbody tr th {\n",
       "        vertical-align: top;\n",
       "    }\n",
       "\n",
       "    .dataframe thead th {\n",
       "        text-align: right;\n",
       "    }\n",
       "</style>\n",
       "<table border=\"1\" class=\"dataframe\">\n",
       "  <thead>\n",
       "    <tr style=\"text-align: right;\">\n",
       "      <th></th>\n",
       "      <th>index</th>\n",
       "      <th>SK_ID_CURR</th>\n",
       "      <th>TARGET</th>\n",
       "      <th>CODE_GENDER</th>\n",
       "      <th>FLAG_OWN_CAR</th>\n",
       "      <th>FLAG_OWN_REALTY</th>\n",
       "      <th>CNT_CHILDREN</th>\n",
       "      <th>AMT_INCOME_TOTAL</th>\n",
       "      <th>AMT_CREDIT</th>\n",
       "      <th>AMT_ANNUITY</th>\n",
       "      <th>...</th>\n",
       "      <th>CC_NAME_CONTRACT_STATUS_Signed_MAX</th>\n",
       "      <th>CC_NAME_CONTRACT_STATUS_Signed_MEAN</th>\n",
       "      <th>CC_NAME_CONTRACT_STATUS_Signed_SUM</th>\n",
       "      <th>CC_NAME_CONTRACT_STATUS_Signed_VAR</th>\n",
       "      <th>CC_NAME_CONTRACT_STATUS_nan_MIN</th>\n",
       "      <th>CC_NAME_CONTRACT_STATUS_nan_MAX</th>\n",
       "      <th>CC_NAME_CONTRACT_STATUS_nan_MEAN</th>\n",
       "      <th>CC_NAME_CONTRACT_STATUS_nan_SUM</th>\n",
       "      <th>CC_NAME_CONTRACT_STATUS_nan_VAR</th>\n",
       "      <th>CC_COUNT</th>\n",
       "    </tr>\n",
       "  </thead>\n",
       "  <tbody>\n",
       "    <tr>\n",
       "      <th>0</th>\n",
       "      <td>0</td>\n",
       "      <td>100002</td>\n",
       "      <td>1.0</td>\n",
       "      <td>0</td>\n",
       "      <td>0</td>\n",
       "      <td>0</td>\n",
       "      <td>0</td>\n",
       "      <td>202500.0</td>\n",
       "      <td>406597.5</td>\n",
       "      <td>24700.5</td>\n",
       "      <td>...</td>\n",
       "      <td>NaN</td>\n",
       "      <td>NaN</td>\n",
       "      <td>NaN</td>\n",
       "      <td>NaN</td>\n",
       "      <td>NaN</td>\n",
       "      <td>NaN</td>\n",
       "      <td>NaN</td>\n",
       "      <td>NaN</td>\n",
       "      <td>NaN</td>\n",
       "      <td>NaN</td>\n",
       "    </tr>\n",
       "    <tr>\n",
       "      <th>1</th>\n",
       "      <td>1</td>\n",
       "      <td>100003</td>\n",
       "      <td>0.0</td>\n",
       "      <td>1</td>\n",
       "      <td>0</td>\n",
       "      <td>1</td>\n",
       "      <td>0</td>\n",
       "      <td>270000.0</td>\n",
       "      <td>1293502.5</td>\n",
       "      <td>35698.5</td>\n",
       "      <td>...</td>\n",
       "      <td>NaN</td>\n",
       "      <td>NaN</td>\n",
       "      <td>NaN</td>\n",
       "      <td>NaN</td>\n",
       "      <td>NaN</td>\n",
       "      <td>NaN</td>\n",
       "      <td>NaN</td>\n",
       "      <td>NaN</td>\n",
       "      <td>NaN</td>\n",
       "      <td>NaN</td>\n",
       "    </tr>\n",
       "    <tr>\n",
       "      <th>2</th>\n",
       "      <td>2</td>\n",
       "      <td>100004</td>\n",
       "      <td>0.0</td>\n",
       "      <td>0</td>\n",
       "      <td>1</td>\n",
       "      <td>0</td>\n",
       "      <td>0</td>\n",
       "      <td>67500.0</td>\n",
       "      <td>135000.0</td>\n",
       "      <td>6750.0</td>\n",
       "      <td>...</td>\n",
       "      <td>NaN</td>\n",
       "      <td>NaN</td>\n",
       "      <td>NaN</td>\n",
       "      <td>NaN</td>\n",
       "      <td>NaN</td>\n",
       "      <td>NaN</td>\n",
       "      <td>NaN</td>\n",
       "      <td>NaN</td>\n",
       "      <td>NaN</td>\n",
       "      <td>NaN</td>\n",
       "    </tr>\n",
       "    <tr>\n",
       "      <th>3</th>\n",
       "      <td>3</td>\n",
       "      <td>100006</td>\n",
       "      <td>0.0</td>\n",
       "      <td>1</td>\n",
       "      <td>0</td>\n",
       "      <td>0</td>\n",
       "      <td>0</td>\n",
       "      <td>135000.0</td>\n",
       "      <td>312682.5</td>\n",
       "      <td>29686.5</td>\n",
       "      <td>...</td>\n",
       "      <td>0.0</td>\n",
       "      <td>0.0</td>\n",
       "      <td>0.0</td>\n",
       "      <td>0.0</td>\n",
       "      <td>0.0</td>\n",
       "      <td>0.0</td>\n",
       "      <td>0.0</td>\n",
       "      <td>0.0</td>\n",
       "      <td>0.0</td>\n",
       "      <td>6.0</td>\n",
       "    </tr>\n",
       "    <tr>\n",
       "      <th>4</th>\n",
       "      <td>4</td>\n",
       "      <td>100007</td>\n",
       "      <td>0.0</td>\n",
       "      <td>0</td>\n",
       "      <td>0</td>\n",
       "      <td>0</td>\n",
       "      <td>0</td>\n",
       "      <td>121500.0</td>\n",
       "      <td>513000.0</td>\n",
       "      <td>21865.5</td>\n",
       "      <td>...</td>\n",
       "      <td>NaN</td>\n",
       "      <td>NaN</td>\n",
       "      <td>NaN</td>\n",
       "      <td>NaN</td>\n",
       "      <td>NaN</td>\n",
       "      <td>NaN</td>\n",
       "      <td>NaN</td>\n",
       "      <td>NaN</td>\n",
       "      <td>NaN</td>\n",
       "      <td>NaN</td>\n",
       "    </tr>\n",
       "  </tbody>\n",
       "</table>\n",
       "<p>5 rows × 798 columns</p>\n",
       "</div>"
      ],
      "text/plain": [
       "   index  SK_ID_CURR  TARGET  CODE_GENDER  FLAG_OWN_CAR  FLAG_OWN_REALTY  \\\n",
       "0      0      100002     1.0            0             0                0   \n",
       "1      1      100003     0.0            1             0                1   \n",
       "2      2      100004     0.0            0             1                0   \n",
       "3      3      100006     0.0            1             0                0   \n",
       "4      4      100007     0.0            0             0                0   \n",
       "\n",
       "   CNT_CHILDREN  AMT_INCOME_TOTAL  AMT_CREDIT  AMT_ANNUITY  ...  \\\n",
       "0             0          202500.0    406597.5      24700.5  ...   \n",
       "1             0          270000.0   1293502.5      35698.5  ...   \n",
       "2             0           67500.0    135000.0       6750.0  ...   \n",
       "3             0          135000.0    312682.5      29686.5  ...   \n",
       "4             0          121500.0    513000.0      21865.5  ...   \n",
       "\n",
       "   CC_NAME_CONTRACT_STATUS_Signed_MAX  CC_NAME_CONTRACT_STATUS_Signed_MEAN  \\\n",
       "0                                 NaN                                  NaN   \n",
       "1                                 NaN                                  NaN   \n",
       "2                                 NaN                                  NaN   \n",
       "3                                 0.0                                  0.0   \n",
       "4                                 NaN                                  NaN   \n",
       "\n",
       "   CC_NAME_CONTRACT_STATUS_Signed_SUM  CC_NAME_CONTRACT_STATUS_Signed_VAR  \\\n",
       "0                                 NaN                                 NaN   \n",
       "1                                 NaN                                 NaN   \n",
       "2                                 NaN                                 NaN   \n",
       "3                                 0.0                                 0.0   \n",
       "4                                 NaN                                 NaN   \n",
       "\n",
       "   CC_NAME_CONTRACT_STATUS_nan_MIN  CC_NAME_CONTRACT_STATUS_nan_MAX  \\\n",
       "0                              NaN                              NaN   \n",
       "1                              NaN                              NaN   \n",
       "2                              NaN                              NaN   \n",
       "3                              0.0                              0.0   \n",
       "4                              NaN                              NaN   \n",
       "\n",
       "   CC_NAME_CONTRACT_STATUS_nan_MEAN  CC_NAME_CONTRACT_STATUS_nan_SUM  \\\n",
       "0                               NaN                              NaN   \n",
       "1                               NaN                              NaN   \n",
       "2                               NaN                              NaN   \n",
       "3                               0.0                              0.0   \n",
       "4                               NaN                              NaN   \n",
       "\n",
       "   CC_NAME_CONTRACT_STATUS_nan_VAR  CC_COUNT  \n",
       "0                              NaN       NaN  \n",
       "1                              NaN       NaN  \n",
       "2                              NaN       NaN  \n",
       "3                              0.0       6.0  \n",
       "4                              NaN       NaN  \n",
       "\n",
       "[5 rows x 798 columns]"
      ]
     },
     "execution_count": 8,
     "metadata": {},
     "output_type": "execute_result"
    }
   ],
   "source": [
    "train_data.head()"
   ]
  },
  {
   "cell_type": "code",
   "execution_count": 9,
   "metadata": {
    "collapsed": false,
    "jupyter": {
     "outputs_hidden": false
    },
    "pycharm": {
     "name": "#%%\n"
    }
   },
   "outputs": [
    {
     "data": {
      "text/html": [
       "<div>\n",
       "<style scoped>\n",
       "    .dataframe tbody tr th:only-of-type {\n",
       "        vertical-align: middle;\n",
       "    }\n",
       "\n",
       "    .dataframe tbody tr th {\n",
       "        vertical-align: top;\n",
       "    }\n",
       "\n",
       "    .dataframe thead th {\n",
       "        text-align: right;\n",
       "    }\n",
       "</style>\n",
       "<table border=\"1\" class=\"dataframe\">\n",
       "  <thead>\n",
       "    <tr style=\"text-align: right;\">\n",
       "      <th></th>\n",
       "      <th>feature</th>\n",
       "      <th>importance</th>\n",
       "      <th>fold</th>\n",
       "    </tr>\n",
       "  </thead>\n",
       "  <tbody>\n",
       "    <tr>\n",
       "      <th>3424</th>\n",
       "      <td>PAYMENT_RATE</td>\n",
       "      <td>3955</td>\n",
       "      <td>5</td>\n",
       "    </tr>\n",
       "    <tr>\n",
       "      <th>5014</th>\n",
       "      <td>PAYMENT_RATE</td>\n",
       "      <td>3872</td>\n",
       "      <td>7</td>\n",
       "    </tr>\n",
       "    <tr>\n",
       "      <th>32</th>\n",
       "      <td>EXT_SOURCE_3</td>\n",
       "      <td>3868</td>\n",
       "      <td>1</td>\n",
       "    </tr>\n",
       "    <tr>\n",
       "      <th>6604</th>\n",
       "      <td>PAYMENT_RATE</td>\n",
       "      <td>3764</td>\n",
       "      <td>9</td>\n",
       "    </tr>\n",
       "    <tr>\n",
       "      <th>7187</th>\n",
       "      <td>EXT_SOURCE_3</td>\n",
       "      <td>3753</td>\n",
       "      <td>10</td>\n",
       "    </tr>\n",
       "  </tbody>\n",
       "</table>\n",
       "</div>"
      ],
      "text/plain": [
       "           feature  importance  fold\n",
       "3424  PAYMENT_RATE        3955     5\n",
       "5014  PAYMENT_RATE        3872     7\n",
       "32    EXT_SOURCE_3        3868     1\n",
       "6604  PAYMENT_RATE        3764     9\n",
       "7187  EXT_SOURCE_3        3753    10"
      ]
     },
     "execution_count": 9,
     "metadata": {},
     "output_type": "execute_result"
    }
   ],
   "source": [
    "feature_importance = pd.read_csv('feature_importance.csv').sort_values(\"importance\", ascending=False)\n",
    "feature_importance.head()"
   ]
  },
  {
   "cell_type": "code",
   "execution_count": 10,
   "metadata": {
    "collapsed": false,
    "jupyter": {
     "outputs_hidden": false
    },
    "pycharm": {
     "name": "#%%\n"
    }
   },
   "outputs": [
    {
     "data": {
      "text/html": [
       "<div>\n",
       "<style scoped>\n",
       "    .dataframe tbody tr th:only-of-type {\n",
       "        vertical-align: middle;\n",
       "    }\n",
       "\n",
       "    .dataframe tbody tr th {\n",
       "        vertical-align: top;\n",
       "    }\n",
       "\n",
       "    .dataframe thead th {\n",
       "        text-align: right;\n",
       "    }\n",
       "</style>\n",
       "<table border=\"1\" class=\"dataframe\">\n",
       "  <thead>\n",
       "    <tr style=\"text-align: right;\">\n",
       "      <th></th>\n",
       "      <th>importance</th>\n",
       "      <th>fold</th>\n",
       "    </tr>\n",
       "  </thead>\n",
       "  <tbody>\n",
       "    <tr>\n",
       "      <th>count</th>\n",
       "      <td>795.00000</td>\n",
       "      <td>795.0</td>\n",
       "    </tr>\n",
       "    <tr>\n",
       "      <th>mean</th>\n",
       "      <td>371.15673</td>\n",
       "      <td>5.5</td>\n",
       "    </tr>\n",
       "    <tr>\n",
       "      <th>std</th>\n",
       "      <td>549.11526</td>\n",
       "      <td>0.0</td>\n",
       "    </tr>\n",
       "    <tr>\n",
       "      <th>min</th>\n",
       "      <td>0.00000</td>\n",
       "      <td>5.5</td>\n",
       "    </tr>\n",
       "    <tr>\n",
       "      <th>25%</th>\n",
       "      <td>16.60000</td>\n",
       "      <td>5.5</td>\n",
       "    </tr>\n",
       "    <tr>\n",
       "      <th>50%</th>\n",
       "      <td>133.70000</td>\n",
       "      <td>5.5</td>\n",
       "    </tr>\n",
       "    <tr>\n",
       "      <th>75%</th>\n",
       "      <td>491.25000</td>\n",
       "      <td>5.5</td>\n",
       "    </tr>\n",
       "    <tr>\n",
       "      <th>max</th>\n",
       "      <td>3683.40000</td>\n",
       "      <td>5.5</td>\n",
       "    </tr>\n",
       "  </tbody>\n",
       "</table>\n",
       "</div>"
      ],
      "text/plain": [
       "       importance   fold\n",
       "count   795.00000  795.0\n",
       "mean    371.15673    5.5\n",
       "std     549.11526    0.0\n",
       "min       0.00000    5.5\n",
       "25%      16.60000    5.5\n",
       "50%     133.70000    5.5\n",
       "75%     491.25000    5.5\n",
       "max    3683.40000    5.5"
      ]
     },
     "execution_count": 10,
     "metadata": {},
     "output_type": "execute_result"
    }
   ],
   "source": [
    "test = feature_importance.groupby('feature').mean().sort_values(\"importance\", ascending=False)\n",
    "test.describe()"
   ]
  },
  {
   "cell_type": "code",
   "execution_count": 11,
   "metadata": {
    "collapsed": false,
    "jupyter": {
     "outputs_hidden": false
    },
    "pycharm": {
     "name": "#%%\n"
    }
   },
   "outputs": [],
   "source": [
    "list_features = test[:100].index\n",
    "new_train_data = train_data[list_features.insert(0, 'TARGET')]\n",
    "new_test_data = test_data[list_features]"
   ]
  },
  {
   "cell_type": "markdown",
   "metadata": {
    "pycharm": {
     "name": "#%% md\n"
    }
   },
   "source": [
    "### Préparation des données"
   ]
  },
  {
   "cell_type": "code",
   "execution_count": 12,
   "metadata": {
    "collapsed": false,
    "jupyter": {
     "outputs_hidden": false
    },
    "pycharm": {
     "name": "#%%\n"
    }
   },
   "outputs": [],
   "source": [
    "X = new_train_data.drop(['TARGET'], axis=1)\n",
    "y = new_train_data['TARGET']"
   ]
  },
  {
   "cell_type": "code",
   "execution_count": 13,
   "metadata": {
    "collapsed": false,
    "jupyter": {
     "outputs_hidden": false
    },
    "pycharm": {
     "name": "#%%\n"
    }
   },
   "outputs": [],
   "source": [
    "X_train, X_test, y_train, y_test = model_selection.train_test_split(X, y, test_size=0.2)"
   ]
  },
  {
   "cell_type": "markdown",
   "metadata": {
    "pycharm": {
     "name": "#%% md\n"
    }
   },
   "source": [
    "### Normalisation des données"
   ]
  },
  {
   "cell_type": "code",
   "execution_count": 14,
   "metadata": {
    "collapsed": false,
    "jupyter": {
     "outputs_hidden": false
    },
    "pycharm": {
     "name": "#%%\n"
    }
   },
   "outputs": [],
   "source": [
    "std_scale = preprocessing.StandardScaler().fit(X_train)\n",
    "X_train_std = pd.DataFrame(\n",
    "    std_scale.transform(X_train),\n",
    "    columns=X_train.columns\n",
    ")\n",
    "X_test_std = pd.DataFrame(\n",
    "    std_scale.transform(X_test),\n",
    "    columns=X_test.columns\n",
    ")"
   ]
  },
  {
   "cell_type": "code",
   "execution_count": 15,
   "metadata": {
    "collapsed": false,
    "jupyter": {
     "outputs_hidden": false
    },
    "pycharm": {
     "name": "#%%\n"
    }
   },
   "outputs": [
    {
     "data": {
      "text/html": [
       "<div>\n",
       "<style scoped>\n",
       "    .dataframe tbody tr th:only-of-type {\n",
       "        vertical-align: middle;\n",
       "    }\n",
       "\n",
       "    .dataframe tbody tr th {\n",
       "        vertical-align: top;\n",
       "    }\n",
       "\n",
       "    .dataframe thead th {\n",
       "        text-align: right;\n",
       "    }\n",
       "</style>\n",
       "<table border=\"1\" class=\"dataframe\">\n",
       "  <thead>\n",
       "    <tr style=\"text-align: right;\">\n",
       "      <th></th>\n",
       "      <th>PAYMENT_RATE</th>\n",
       "      <th>EXT_SOURCE_3</th>\n",
       "      <th>EXT_SOURCE_2</th>\n",
       "      <th>DAYS_BIRTH</th>\n",
       "      <th>EXT_SOURCE_1</th>\n",
       "      <th>DAYS_EMPLOYED</th>\n",
       "      <th>DAYS_EMPLOYED_PERC</th>\n",
       "      <th>DAYS_REGISTRATION</th>\n",
       "      <th>DAYS_ID_PUBLISH</th>\n",
       "      <th>INSTAL_DBD_MEAN</th>\n",
       "      <th>...</th>\n",
       "      <th>PREV_NAME_TYPE_SUITE_Unaccompanied_MEAN</th>\n",
       "      <th>CLOSED_DAYS_CREDIT_MIN</th>\n",
       "      <th>CLOSED_DAYS_CREDIT_ENDDATE_MIN</th>\n",
       "      <th>PREV_AMT_CREDIT_MEAN</th>\n",
       "      <th>PREV_RATE_DOWN_PAYMENT_MEAN</th>\n",
       "      <th>APPROVED_APP_CREDIT_PERC_MIN</th>\n",
       "      <th>TOTALAREA_MODE</th>\n",
       "      <th>INSTAL_PAYMENT_PERC_VAR</th>\n",
       "      <th>INSTAL_AMT_PAYMENT_MAX</th>\n",
       "      <th>PREV_AMT_APPLICATION_MEAN</th>\n",
       "    </tr>\n",
       "  </thead>\n",
       "  <tbody>\n",
       "    <tr>\n",
       "      <th>count</th>\n",
       "      <td>2.459970e+05</td>\n",
       "      <td>1.971880e+05</td>\n",
       "      <td>2.454750e+05</td>\n",
       "      <td>2.460050e+05</td>\n",
       "      <td>1.073500e+05</td>\n",
       "      <td>2.016600e+05</td>\n",
       "      <td>2.016600e+05</td>\n",
       "      <td>2.460050e+05</td>\n",
       "      <td>2.460050e+05</td>\n",
       "      <td>2.332500e+05</td>\n",
       "      <td>...</td>\n",
       "      <td>2.327650e+05</td>\n",
       "      <td>1.840050e+05</td>\n",
       "      <td>1.827660e+05</td>\n",
       "      <td>2.327650e+05</td>\n",
       "      <td>2.188450e+05</td>\n",
       "      <td>2.319680e+05</td>\n",
       "      <td>1.275260e+05</td>\n",
       "      <td>2.326790e+05</td>\n",
       "      <td>2.332420e+05</td>\n",
       "      <td>2.327650e+05</td>\n",
       "    </tr>\n",
       "    <tr>\n",
       "      <th>mean</th>\n",
       "      <td>-5.343918e-16</td>\n",
       "      <td>-6.632837e-16</td>\n",
       "      <td>7.441246e-16</td>\n",
       "      <td>-2.071964e-16</td>\n",
       "      <td>3.175083e-16</td>\n",
       "      <td>-2.876527e-17</td>\n",
       "      <td>-7.729775e-17</td>\n",
       "      <td>1.444276e-16</td>\n",
       "      <td>-1.242594e-16</td>\n",
       "      <td>1.253636e-17</td>\n",
       "      <td>...</td>\n",
       "      <td>2.624622e-16</td>\n",
       "      <td>3.572528e-17</td>\n",
       "      <td>6.301931e-17</td>\n",
       "      <td>2.250386e-16</td>\n",
       "      <td>3.879404e-16</td>\n",
       "      <td>-9.588089e-16</td>\n",
       "      <td>-1.008473e-16</td>\n",
       "      <td>-4.456280e-15</td>\n",
       "      <td>-1.441797e-16</td>\n",
       "      <td>-2.181616e-16</td>\n",
       "    </tr>\n",
       "    <tr>\n",
       "      <th>std</th>\n",
       "      <td>1.000002e+00</td>\n",
       "      <td>1.000003e+00</td>\n",
       "      <td>1.000002e+00</td>\n",
       "      <td>1.000002e+00</td>\n",
       "      <td>1.000005e+00</td>\n",
       "      <td>1.000002e+00</td>\n",
       "      <td>1.000002e+00</td>\n",
       "      <td>1.000002e+00</td>\n",
       "      <td>1.000002e+00</td>\n",
       "      <td>1.000002e+00</td>\n",
       "      <td>...</td>\n",
       "      <td>1.000002e+00</td>\n",
       "      <td>1.000003e+00</td>\n",
       "      <td>1.000003e+00</td>\n",
       "      <td>1.000002e+00</td>\n",
       "      <td>1.000002e+00</td>\n",
       "      <td>1.000002e+00</td>\n",
       "      <td>1.000004e+00</td>\n",
       "      <td>1.000002e+00</td>\n",
       "      <td>1.000002e+00</td>\n",
       "      <td>1.000002e+00</td>\n",
       "    </tr>\n",
       "    <tr>\n",
       "      <th>min</th>\n",
       "      <td>-1.406637e+00</td>\n",
       "      <td>-2.617380e+00</td>\n",
       "      <td>-2.693742e+00</td>\n",
       "      <td>-2.098682e+00</td>\n",
       "      <td>-2.308408e+00</td>\n",
       "      <td>-6.614134e+00</td>\n",
       "      <td>-1.174005e+00</td>\n",
       "      <td>-5.321274e+00</td>\n",
       "      <td>-2.356156e+00</td>\n",
       "      <td>-1.339973e+00</td>\n",
       "      <td>...</td>\n",
       "      <td>-9.576822e-01</td>\n",
       "      <td>-1.314459e+00</td>\n",
       "      <td>-2.556362e+01</td>\n",
       "      <td>-1.025356e+00</td>\n",
       "      <td>-9.138669e-01</td>\n",
       "      <td>-2.376327e+00</td>\n",
       "      <td>-9.541597e-01</td>\n",
       "      <td>-5.974407e-03</td>\n",
       "      <td>-5.569502e-01</td>\n",
       "      <td>-1.003954e+00</td>\n",
       "    </tr>\n",
       "    <tr>\n",
       "      <th>25%</th>\n",
       "      <td>-7.465877e-01</td>\n",
       "      <td>-7.173447e-01</td>\n",
       "      <td>-6.372891e-01</td>\n",
       "      <td>-8.367816e-01</td>\n",
       "      <td>-7.968812e-01</td>\n",
       "      <td>-3.353516e-01</td>\n",
       "      <td>-7.541817e-01</td>\n",
       "      <td>-7.076724e-01</td>\n",
       "      <td>-8.649555e-01</td>\n",
       "      <td>-6.107743e-01</td>\n",
       "      <td>...</td>\n",
       "      <td>-9.576822e-01</td>\n",
       "      <td>-9.221286e-01</td>\n",
       "      <td>-5.237086e-01</td>\n",
       "      <td>-6.217426e-01</td>\n",
       "      <td>-9.138669e-01</td>\n",
       "      <td>2.452754e-02</td>\n",
       "      <td>-5.709060e-01</td>\n",
       "      <td>-5.974407e-03</td>\n",
       "      <td>-4.999217e-01</td>\n",
       "      <td>-5.996005e-01</td>\n",
       "    </tr>\n",
       "    <tr>\n",
       "      <th>50%</th>\n",
       "      <td>-1.645002e-01</td>\n",
       "      <td>1.277715e-01</td>\n",
       "      <td>2.701488e-01</td>\n",
       "      <td>6.647342e-02</td>\n",
       "      <td>1.809859e-02</td>\n",
       "      <td>3.148534e-01</td>\n",
       "      <td>-2.858007e-01</td>\n",
       "      <td>1.368398e-01</td>\n",
       "      <td>-1.733457e-01</td>\n",
       "      <td>-2.346614e-01</td>\n",
       "      <td>...</td>\n",
       "      <td>-1.154793e-01</td>\n",
       "      <td>-1.601029e-01</td>\n",
       "      <td>-5.145880e-02</td>\n",
       "      <td>-3.166958e-01</td>\n",
       "      <td>-1.740527e-01</td>\n",
       "      <td>2.538560e-01</td>\n",
       "      <td>-3.147849e-01</td>\n",
       "      <td>-5.974407e-03</td>\n",
       "      <td>-4.119332e-01</td>\n",
       "      <td>-3.124133e-01</td>\n",
       "    </tr>\n",
       "    <tr>\n",
       "      <th>75%</th>\n",
       "      <td>4.602893e-01</td>\n",
       "      <td>8.063295e-01</td>\n",
       "      <td>7.802571e-01</td>\n",
       "      <td>8.309423e-01</td>\n",
       "      <td>8.187499e-01</td>\n",
       "      <td>6.910861e-01</td>\n",
       "      <td>4.659718e-01</td>\n",
       "      <td>8.442890e-01</td>\n",
       "      <td>8.455202e-01</td>\n",
       "      <td>3.143962e-01</td>\n",
       "      <td>...</td>\n",
       "      <td>7.267236e-01</td>\n",
       "      <td>8.370694e-01</td>\n",
       "      <td>3.981833e-01</td>\n",
       "      <td>2.773098e-01</td>\n",
       "      <td>2.985484e-01</td>\n",
       "      <td>5.315513e-01</td>\n",
       "      <td>2.345764e-01</td>\n",
       "      <td>-5.974378e-03</td>\n",
       "      <td>-2.114258e-02</td>\n",
       "      <td>2.419528e-01</td>\n",
       "    </tr>\n",
       "    <tr>\n",
       "      <th>max</th>\n",
       "      <td>3.145928e+00</td>\n",
       "      <td>1.969169e+00</td>\n",
       "      <td>1.782925e+00</td>\n",
       "      <td>1.957721e+00</td>\n",
       "      <td>2.183128e+00</td>\n",
       "      <td>1.017893e+00</td>\n",
       "      <td>4.272947e+00</td>\n",
       "      <td>1.414959e+00</td>\n",
       "      <td>1.983629e+00</td>\n",
       "      <td>3.092706e+01</td>\n",
       "      <td>...</td>\n",
       "      <td>2.411129e+00</td>\n",
       "      <td>2.347289e+00</td>\n",
       "      <td>2.043991e+01</td>\n",
       "      <td>2.343274e+01</td>\n",
       "      <td>1.010363e+01</td>\n",
       "      <td>1.216306e+01</td>\n",
       "      <td>8.325591e+00</td>\n",
       "      <td>3.205682e+02</td>\n",
       "      <td>1.469593e+01</td>\n",
       "      <td>2.544041e+01</td>\n",
       "    </tr>\n",
       "  </tbody>\n",
       "</table>\n",
       "<p>8 rows × 100 columns</p>\n",
       "</div>"
      ],
      "text/plain": [
       "       PAYMENT_RATE  EXT_SOURCE_3  EXT_SOURCE_2    DAYS_BIRTH  EXT_SOURCE_1  \\\n",
       "count  2.459970e+05  1.971880e+05  2.454750e+05  2.460050e+05  1.073500e+05   \n",
       "mean  -5.343918e-16 -6.632837e-16  7.441246e-16 -2.071964e-16  3.175083e-16   \n",
       "std    1.000002e+00  1.000003e+00  1.000002e+00  1.000002e+00  1.000005e+00   \n",
       "min   -1.406637e+00 -2.617380e+00 -2.693742e+00 -2.098682e+00 -2.308408e+00   \n",
       "25%   -7.465877e-01 -7.173447e-01 -6.372891e-01 -8.367816e-01 -7.968812e-01   \n",
       "50%   -1.645002e-01  1.277715e-01  2.701488e-01  6.647342e-02  1.809859e-02   \n",
       "75%    4.602893e-01  8.063295e-01  7.802571e-01  8.309423e-01  8.187499e-01   \n",
       "max    3.145928e+00  1.969169e+00  1.782925e+00  1.957721e+00  2.183128e+00   \n",
       "\n",
       "       DAYS_EMPLOYED  DAYS_EMPLOYED_PERC  DAYS_REGISTRATION  DAYS_ID_PUBLISH  \\\n",
       "count   2.016600e+05        2.016600e+05       2.460050e+05     2.460050e+05   \n",
       "mean   -2.876527e-17       -7.729775e-17       1.444276e-16    -1.242594e-16   \n",
       "std     1.000002e+00        1.000002e+00       1.000002e+00     1.000002e+00   \n",
       "min    -6.614134e+00       -1.174005e+00      -5.321274e+00    -2.356156e+00   \n",
       "25%    -3.353516e-01       -7.541817e-01      -7.076724e-01    -8.649555e-01   \n",
       "50%     3.148534e-01       -2.858007e-01       1.368398e-01    -1.733457e-01   \n",
       "75%     6.910861e-01        4.659718e-01       8.442890e-01     8.455202e-01   \n",
       "max     1.017893e+00        4.272947e+00       1.414959e+00     1.983629e+00   \n",
       "\n",
       "       INSTAL_DBD_MEAN  ...  PREV_NAME_TYPE_SUITE_Unaccompanied_MEAN  \\\n",
       "count     2.332500e+05  ...                             2.327650e+05   \n",
       "mean      1.253636e-17  ...                             2.624622e-16   \n",
       "std       1.000002e+00  ...                             1.000002e+00   \n",
       "min      -1.339973e+00  ...                            -9.576822e-01   \n",
       "25%      -6.107743e-01  ...                            -9.576822e-01   \n",
       "50%      -2.346614e-01  ...                            -1.154793e-01   \n",
       "75%       3.143962e-01  ...                             7.267236e-01   \n",
       "max       3.092706e+01  ...                             2.411129e+00   \n",
       "\n",
       "       CLOSED_DAYS_CREDIT_MIN  CLOSED_DAYS_CREDIT_ENDDATE_MIN  \\\n",
       "count            1.840050e+05                    1.827660e+05   \n",
       "mean             3.572528e-17                    6.301931e-17   \n",
       "std              1.000003e+00                    1.000003e+00   \n",
       "min             -1.314459e+00                   -2.556362e+01   \n",
       "25%             -9.221286e-01                   -5.237086e-01   \n",
       "50%             -1.601029e-01                   -5.145880e-02   \n",
       "75%              8.370694e-01                    3.981833e-01   \n",
       "max              2.347289e+00                    2.043991e+01   \n",
       "\n",
       "       PREV_AMT_CREDIT_MEAN  PREV_RATE_DOWN_PAYMENT_MEAN  \\\n",
       "count          2.327650e+05                 2.188450e+05   \n",
       "mean           2.250386e-16                 3.879404e-16   \n",
       "std            1.000002e+00                 1.000002e+00   \n",
       "min           -1.025356e+00                -9.138669e-01   \n",
       "25%           -6.217426e-01                -9.138669e-01   \n",
       "50%           -3.166958e-01                -1.740527e-01   \n",
       "75%            2.773098e-01                 2.985484e-01   \n",
       "max            2.343274e+01                 1.010363e+01   \n",
       "\n",
       "       APPROVED_APP_CREDIT_PERC_MIN  TOTALAREA_MODE  INSTAL_PAYMENT_PERC_VAR  \\\n",
       "count                  2.319680e+05    1.275260e+05             2.326790e+05   \n",
       "mean                  -9.588089e-16   -1.008473e-16            -4.456280e-15   \n",
       "std                    1.000002e+00    1.000004e+00             1.000002e+00   \n",
       "min                   -2.376327e+00   -9.541597e-01            -5.974407e-03   \n",
       "25%                    2.452754e-02   -5.709060e-01            -5.974407e-03   \n",
       "50%                    2.538560e-01   -3.147849e-01            -5.974407e-03   \n",
       "75%                    5.315513e-01    2.345764e-01            -5.974378e-03   \n",
       "max                    1.216306e+01    8.325591e+00             3.205682e+02   \n",
       "\n",
       "       INSTAL_AMT_PAYMENT_MAX  PREV_AMT_APPLICATION_MEAN  \n",
       "count            2.332420e+05               2.327650e+05  \n",
       "mean            -1.441797e-16              -2.181616e-16  \n",
       "std              1.000002e+00               1.000002e+00  \n",
       "min             -5.569502e-01              -1.003954e+00  \n",
       "25%             -4.999217e-01              -5.996005e-01  \n",
       "50%             -4.119332e-01              -3.124133e-01  \n",
       "75%             -2.114258e-02               2.419528e-01  \n",
       "max              1.469593e+01               2.544041e+01  \n",
       "\n",
       "[8 rows x 100 columns]"
      ]
     },
     "execution_count": 15,
     "metadata": {},
     "output_type": "execute_result"
    }
   ],
   "source": [
    "X_train_std.describe()"
   ]
  },
  {
   "cell_type": "code",
   "execution_count": 16,
   "metadata": {
    "collapsed": false,
    "jupyter": {
     "outputs_hidden": false
    },
    "pycharm": {
     "name": "#%%\n"
    }
   },
   "outputs": [],
   "source": [
    "#msno.bar(X_train_std)"
   ]
  },
  {
   "cell_type": "markdown",
   "metadata": {
    "pycharm": {
     "name": "#%% md\n"
    }
   },
   "source": [
    "### Imputation des valeurs manquantes"
   ]
  },
  {
   "cell_type": "code",
   "execution_count": 17,
   "metadata": {
    "collapsed": false,
    "jupyter": {
     "outputs_hidden": false
    },
    "pycharm": {
     "name": "#%%\n"
    }
   },
   "outputs": [],
   "source": [
    "imputer = impute.IterativeImputer(n_nearest_features=min(5, int(len(X_train_std.columns) / 10))).fit(X_train_std)\n",
    "\n",
    "X_train_std = pd.DataFrame(\n",
    "    imputer.transform(X_train_std),\n",
    "    columns=X_train_std.columns\n",
    ")\n",
    "\n",
    "X_test_std = pd.DataFrame(\n",
    "    imputer.transform(X_test_std),\n",
    "    columns=X_test_std.columns\n",
    ")"
   ]
  },
  {
   "cell_type": "markdown",
   "metadata": {
    "pycharm": {
     "name": "#%% md\n"
    }
   },
   "source": [
    "### Analyse en composantes principales (ACP)"
   ]
  },
  {
   "cell_type": "code",
   "execution_count": 18,
   "metadata": {
    "collapsed": false,
    "jupyter": {
     "outputs_hidden": false
    },
    "pycharm": {
     "name": "#%%\n"
    }
   },
   "outputs": [],
   "source": [
    "#dth.acpAnalysis(X_res, y_res)"
   ]
  },
  {
   "cell_type": "markdown",
   "metadata": {
    "pycharm": {
     "name": "#%% md\n"
    }
   },
   "source": [
    "### Modélisation et évaluation des modèles"
   ]
  },
  {
   "cell_type": "code",
   "execution_count": 19,
   "metadata": {},
   "outputs": [],
   "source": [
    "results = {}"
   ]
  },
  {
   "cell_type": "markdown",
   "metadata": {
    "pycharm": {
     "name": "#%% md\n"
    }
   },
   "source": [
    "#### Modèle de référence"
   ]
  },
  {
   "cell_type": "code",
   "execution_count": 20,
   "metadata": {
    "collapsed": false,
    "jupyter": {
     "outputs_hidden": false
    },
    "pycharm": {
     "name": "#%%\n"
    }
   },
   "outputs": [
    {
     "name": "stdout",
     "output_type": "stream",
     "text": [
      "100%|██████████| 10/10 [00:06<00:00,  1.56trial/s, best loss: 0.014510924574703765]\n",
      "Temps total du predict : 0.0 secondes:\n",
      "Meilleurs paramètres : {'strategy': 'most_frequent'}\n"
     ]
    },
    {
     "data": {
      "image/png": "[encoded data removed]",
      "text/plain": [
       "<Figure size 1728x576 with 4 Axes>"
      ]
     },
     "metadata": {
      "needs_background": "light"
     },
     "output_type": "display_data"
    }
   ],
   "source": [
    "dummy_classifier = DummyClassifier(random_state=42)\n",
    "\n",
    "space = {\n",
    "        'strategy': hp.choice('strategy', ['stratified', 'most_frequent', 'prior', 'uniform'])\n",
    "    }\n",
    "\n",
    "dummyClassifier_results = dth.find_best_parameters(dummy_classifier, space, X_train_std, y_train, X_test_std, smote=False)\n",
    "\n",
    "results['dummyClassifier'] = dummyClassifier_results\n",
    "\n",
    "print(f\"Temps total du predict : {dummyClassifier_results['time']} secondes:\")\n",
    "print(f\"Meilleurs paramètres : {dummyClassifier_results['best']}\")\n",
    "\n",
    "dth.plot_classifier_results(dummyClassifier_results['classifier'], X_test_std, y_test)"
   ]
  },
  {
   "cell_type": "code",
   "execution_count": 21,
   "metadata": {},
   "outputs": [
    {
     "name": "stdout",
     "output_type": "stream",
     "text": [
      " 30%|███       | 3/10 [01:06<02:32, 21.83s/trial, best loss: 0.01322737342736936] "
     ]
    }
   ],
   "source": [
    "#SANS LE SMOTE\n",
    "\n",
    "ridgeClassifierModel_noSmote = linear_model.RidgeClassifier(random_state=42)\n",
    "\n",
    "space = {\n",
    "        'alpha': hp.loguniform('alpha', -10, 10),\n",
    "        'fit_intercept': hp.choice('fit_intercept', [True, False]),\n",
    "        'normalize': hp.choice('normalize', [True, False]),\n",
    "        'solver': hp.choice('solver', ['auto', 'svd', 'cholesky', 'lsqr', 'sparse_cg', 'sag', 'saga'])\n",
    "    }\n",
    "\n",
    "ridgeClassifier_noSmote_results = dth.find_best_parameters(ridgeClassifierModel_noSmote, space, X_train_std, y_train, X_test_std, smote=False)\n",
    "\n",
    "results['ridgeClassifier_noSmote'] = ridgeClassifier_noSmote_results\n",
    "\n",
    "print(f\"Temps total du predict : {ridgeClassifier_noSmote_results['time']} secondes:\")\n",
    "print(f\"Meilleurs paramètres : {ridgeClassifier_noSmote_results['best']}\")\n",
    "\n",
    "dth.plot_classifier_results(ridgeClassifier_noSmote_results['classifier'], X_test_std, y_test)"
   ]
  },
  {
   "cell_type": "code",
   "execution_count": null,
   "metadata": {},
   "outputs": [
    {
     "name": "stdout",
     "output_type": "stream",
     "text": [
      "100%|██████████| 10/10 [24:20<00:00, 146.04s/trial, best loss: 0.010290603849515256]\n",
      "Temps total du predict : 0.01562190055847168 secondes:\n",
      "Meilleurs paramètres : {'alpha': 0.0001704945896847593, 'fit_intercept': True, 'normalize': False, 'solver': 'lsqr'}\n"
     ]
    },
    {
     "data": {
      "image/png": "[encoded data removed]",
      "text/plain": [
       "<Figure size 1728x576 with 4 Axes>"
      ]
     },
     "metadata": {
      "needs_background": "light"
     },
     "output_type": "display_data"
    }
   ],
   "source": [
    "#AVEC LE SMOTE\n",
    "\n",
    "ridgeClassifierModel = linear_model.RidgeClassifier(random_state=42)\n",
    "\n",
    "space = {\n",
    "        'alpha': hp.loguniform('alpha', -10, 10),\n",
    "        'fit_intercept': hp.choice('fit_intercept', [True, False]),\n",
    "        'normalize': hp.choice('normalize', [True, False]),\n",
    "        'solver': hp.choice('solver', ['auto', 'svd', 'cholesky', 'lsqr', 'sparse_cg', 'sag', 'saga'])\n",
    "    }\n",
    "\n",
    "ridgeClassifier_results = dth.find_best_parameters(ridgeClassifierModel, space, X_train_std, y_train, X_test_std, smote=True)\n",
    "\n",
    "results['ridgeClassifier'] = ridgeClassifier_results\n",
    "\n",
    "print(f\"Temps total du predict : {ridgeClassifier_results['time']} secondes:\")\n",
    "print(f\"Meilleurs paramètres : {ridgeClassifier_results['best']}\")\n",
    "\n",
    "dth.plot_classifier_results(ridgeClassifier_results['classifier'], X_test_std, y_test)"
   ]
  },
  {
   "cell_type": "code",
   "execution_count": null,
   "metadata": {},
   "outputs": [
    {
     "data": {
      "application/vnd.plotly.v1+json": {
       "config": {
        "plotlyServerURL": "https://plot.ly"
       },
       "data": [
        {
         "alignmentgroup": "True",
         "hovertemplate": "Variable name=%{x}<br>Coefficient=%{marker.color}<extra></extra>",
         "legendgroup": "",
         "marker": {
          "color": [
           0.4532272830318071,
           0.31435221274351816,
           0.2660832765733531,
           0.24902183587189394,
           0.21346028950691381,
           0.20205836072782396,
           0.18082404376922767,
           0.1774871005511696,
           0.16794909615864403,
           0.1275135514918318,
           0.10157597820285234,
           0.09870707150141825,
           0.09618440803447331,
           0.08389899457105705,
           0.08294370890003673,
           0.08208454466148297,
           0.08000842325120558,
           0.07925716444620572,
           0.0780358320586422,
           0.07787041593791012
          ],
          "coloraxis": "coloraxis",
          "pattern": {
           "shape": ""
          }
         },
         "name": "",
         "offsetgroup": "",
         "orientation": "v",
         "showlegend": false,
         "textposition": "auto",
         "type": "bar",
         "x": [
          "AMT_GOODS_PRICE",
          "AMT_CREDIT",
          "INSTAL_AMT_PAYMENT_MEAN",
          "INSTAL_AMT_INSTALMENT_MEAN",
          "EXT_SOURCE_1",
          "EXT_SOURCE_3",
          "EXT_SOURCE_2",
          "INSTAL_DAYS_ENTRY_PAYMENT_MEAN",
          "BURO_DAYS_CREDIT_MEAN",
          "INSTAL_DAYS_ENTRY_PAYMENT_MAX",
          "ACTIVE_DAYS_CREDIT_ENDDATE_MEAN",
          "APPROVED_AMT_ANNUITY_MIN",
          "BURO_DAYS_CREDIT_MIN",
          "ACTIVE_AMT_CREDIT_SUM_MAX",
          "APPROVED_DAYS_DECISION_MEAN",
          "PREV_AMT_ANNUITY_MIN",
          "INSTAL_DBD_MEAN",
          "APPROVED_AMT_ANNUITY_MEAN",
          "AMT_ANNUITY",
          "DAYS_EMPLOYED_PERC"
         ],
         "xaxis": "x",
         "y": [
          0.4532272830318071,
          0.31435221274351816,
          0.2660832765733531,
          0.24902183587189394,
          0.21346028950691381,
          0.20205836072782396,
          0.18082404376922767,
          0.1774871005511696,
          0.16794909615864403,
          0.1275135514918318,
          0.10157597820285234,
          0.09870707150141825,
          0.09618440803447331,
          0.08389899457105705,
          0.08294370890003673,
          0.08208454466148297,
          0.08000842325120558,
          0.07925716444620572,
          0.0780358320586422,
          0.07787041593791012
         ],
         "yaxis": "y"
        }
       ],
       "layout": {
        "barmode": "relative",
        "coloraxis": {
         "colorbar": {
          "title": {
           "text": "Coefficient"
          }
         },
         "colorscale": [
          [
           0,
           "#0d0887"
          ],
          [
           0.1111111111111111,
           "#46039f"
          ],
          [
           0.2222222222222222,
           "#7201a8"
          ],
          [
           0.3333333333333333,
           "#9c179e"
          ],
          [
           0.4444444444444444,
           "#bd3786"
          ],
          [
           0.5555555555555556,
           "#d8576b"
          ],
          [
           0.6666666666666666,
           "#ed7953"
          ],
          [
           0.7777777777777778,
           "#fb9f3a"
          ],
          [
           0.8888888888888888,
           "#fdca26"
          ],
          [
           1,
           "#f0f921"
          ]
         ]
        },
        "height": 800,
        "legend": {
         "tracegroupgap": 0
        },
        "template": {
         "data": {
          "bar": [
           {
            "error_x": {
             "color": "#2a3f5f"
            },
            "error_y": {
             "color": "#2a3f5f"
            },
            "marker": {
             "line": {
              "color": "#E5ECF6",
              "width": 0.5
             },
             "pattern": {
              "fillmode": "overlay",
              "size": 10,
              "solidity": 0.2
             }
            },
            "type": "bar"
           }
          ],
          "barpolar": [
           {
            "marker": {
             "line": {
              "color": "#E5ECF6",
              "width": 0.5
             },
             "pattern": {
              "fillmode": "overlay",
              "size": 10,
              "solidity": 0.2
             }
            },
            "type": "barpolar"
           }
          ],
          "carpet": [
           {
            "aaxis": {
             "endlinecolor": "#2a3f5f",
             "gridcolor": "white",
             "linecolor": "white",
             "minorgridcolor": "white",
             "startlinecolor": "#2a3f5f"
            },
            "baxis": {
             "endlinecolor": "#2a3f5f",
             "gridcolor": "white",
             "linecolor": "white",
             "minorgridcolor": "white",
             "startlinecolor": "#2a3f5f"
            },
            "type": "carpet"
           }
          ],
          "choropleth": [
           {
            "colorbar": {
             "outlinewidth": 0,
             "ticks": ""
            },
            "type": "choropleth"
           }
          ],
          "contour": [
           {
            "colorbar": {
             "outlinewidth": 0,
             "ticks": ""
            },
            "colorscale": [
             [
              0,
              "#0d0887"
             ],
             [
              0.1111111111111111,
              "#46039f"
             ],
             [
              0.2222222222222222,
              "#7201a8"
             ],
             [
              0.3333333333333333,
              "#9c179e"
             ],
             [
              0.4444444444444444,
              "#bd3786"
             ],
             [
              0.5555555555555556,
              "#d8576b"
             ],
             [
              0.6666666666666666,
              "#ed7953"
             ],
             [
              0.7777777777777778,
              "#fb9f3a"
             ],
             [
              0.8888888888888888,
              "#fdca26"
             ],
             [
              1,
              "#f0f921"
             ]
            ],
            "type": "contour"
           }
          ],
          "contourcarpet": [
           {
            "colorbar": {
             "outlinewidth": 0,
             "ticks": ""
            },
            "type": "contourcarpet"
           }
          ],
          "heatmap": [
           {
            "colorbar": {
             "outlinewidth": 0,
             "ticks": ""
            },
            "colorscale": [
             [
              0,
              "#0d0887"
             ],
             [
              0.1111111111111111,
              "#46039f"
             ],
             [
              0.2222222222222222,
              "#7201a8"
             ],
             [
              0.3333333333333333,
              "#9c179e"
             ],
             [
              0.4444444444444444,
              "#bd3786"
             ],
             [
              0.5555555555555556,
              "#d8576b"
             ],
             [
              0.6666666666666666,
              "#ed7953"
             ],
             [
              0.7777777777777778,
              "#fb9f3a"
             ],
             [
              0.8888888888888888,
              "#fdca26"
             ],
             [
              1,
              "#f0f921"
             ]
            ],
            "type": "heatmap"
           }
          ],
          "heatmapgl": [
           {
            "colorbar": {
             "outlinewidth": 0,
             "ticks": ""
            },
            "colorscale": [
             [
              0,
              "#0d0887"
             ],
             [
              0.1111111111111111,
              "#46039f"
             ],
             [
              0.2222222222222222,
              "#7201a8"
             ],
             [
              0.3333333333333333,
              "#9c179e"
             ],
             [
              0.4444444444444444,
              "#bd3786"
             ],
             [
              0.5555555555555556,
              "#d8576b"
             ],
             [
              0.6666666666666666,
              "#ed7953"
             ],
             [
              0.7777777777777778,
              "#fb9f3a"
             ],
             [
              0.8888888888888888,
              "#fdca26"
             ],
             [
              1,
              "#f0f921"
             ]
            ],
            "type": "heatmapgl"
           }
          ],
          "histogram": [
           {
            "marker": {
             "pattern": {
              "fillmode": "overlay",
              "size": 10,
              "solidity": 0.2
             }
            },
            "type": "histogram"
           }
          ],
          "histogram2d": [
           {
            "colorbar": {
             "outlinewidth": 0,
             "ticks": ""
            },
            "colorscale": [
             [
              0,
              "#0d0887"
             ],
             [
              0.1111111111111111,
              "#46039f"
             ],
             [
              0.2222222222222222,
              "#7201a8"
             ],
             [
              0.3333333333333333,
              "#9c179e"
             ],
             [
              0.4444444444444444,
              "#bd3786"
             ],
             [
              0.5555555555555556,
              "#d8576b"
             ],
             [
              0.6666666666666666,
              "#ed7953"
             ],
             [
              0.7777777777777778,
              "#fb9f3a"
             ],
             [
              0.8888888888888888,
              "#fdca26"
             ],
             [
              1,
              "#f0f921"
             ]
            ],
            "type": "histogram2d"
           }
          ],
          "histogram2dcontour": [
           {
            "colorbar": {
             "outlinewidth": 0,
             "ticks": ""
            },
            "colorscale": [
             [
              0,
              "#0d0887"
             ],
             [
              0.1111111111111111,
              "#46039f"
             ],
             [
              0.2222222222222222,
              "#7201a8"
             ],
             [
              0.3333333333333333,
              "#9c179e"
             ],
             [
              0.4444444444444444,
              "#bd3786"
             ],
             [
              0.5555555555555556,
              "#d8576b"
             ],
             [
              0.6666666666666666,
              "#ed7953"
             ],
             [
              0.7777777777777778,
              "#fb9f3a"
             ],
             [
              0.8888888888888888,
              "#fdca26"
             ],
             [
              1,
              "#f0f921"
             ]
            ],
            "type": "histogram2dcontour"
           }
          ],
          "mesh3d": [
           {
            "colorbar": {
             "outlinewidth": 0,
             "ticks": ""
            },
            "type": "mesh3d"
           }
          ],
          "parcoords": [
           {
            "line": {
             "colorbar": {
              "outlinewidth": 0,
              "ticks": ""
             }
            },
            "type": "parcoords"
           }
          ],
          "pie": [
           {
            "automargin": true,
            "type": "pie"
           }
          ],
          "scatter": [
           {
            "marker": {
             "colorbar": {
              "outlinewidth": 0,
              "ticks": ""
             }
            },
            "type": "scatter"
           }
          ],
          "scatter3d": [
           {
            "line": {
             "colorbar": {
              "outlinewidth": 0,
              "ticks": ""
             }
            },
            "marker": {
             "colorbar": {
              "outlinewidth": 0,
              "ticks": ""
             }
            },
            "type": "scatter3d"
           }
          ],
          "scattercarpet": [
           {
            "marker": {
             "colorbar": {
              "outlinewidth": 0,
              "ticks": ""
             }
            },
            "type": "scattercarpet"
           }
          ],
          "scattergeo": [
           {
            "marker": {
             "colorbar": {
              "outlinewidth": 0,
              "ticks": ""
             }
            },
            "type": "scattergeo"
           }
          ],
          "scattergl": [
           {
            "marker": {
             "colorbar": {
              "outlinewidth": 0,
              "ticks": ""
             }
            },
            "type": "scattergl"
           }
          ],
          "scattermapbox": [
           {
            "marker": {
             "colorbar": {
              "outlinewidth": 0,
              "ticks": ""
             }
            },
            "type": "scattermapbox"
           }
          ],
          "scatterpolar": [
           {
            "marker": {
             "colorbar": {
              "outlinewidth": 0,
              "ticks": ""
             }
            },
            "type": "scatterpolar"
           }
          ],
          "scatterpolargl": [
           {
            "marker": {
             "colorbar": {
              "outlinewidth": 0,
              "ticks": ""
             }
            },
            "type": "scatterpolargl"
           }
          ],
          "scatterternary": [
           {
            "marker": {
             "colorbar": {
              "outlinewidth": 0,
              "ticks": ""
             }
            },
            "type": "scatterternary"
           }
          ],
          "surface": [
           {
            "colorbar": {
             "outlinewidth": 0,
             "ticks": ""
            },
            "colorscale": [
             [
              0,
              "#0d0887"
             ],
             [
              0.1111111111111111,
              "#46039f"
             ],
             [
              0.2222222222222222,
              "#7201a8"
             ],
             [
              0.3333333333333333,
              "#9c179e"
             ],
             [
              0.4444444444444444,
              "#bd3786"
             ],
             [
              0.5555555555555556,
              "#d8576b"
             ],
             [
              0.6666666666666666,
              "#ed7953"
             ],
             [
              0.7777777777777778,
              "#fb9f3a"
             ],
             [
              0.8888888888888888,
              "#fdca26"
             ],
             [
              1,
              "#f0f921"
             ]
            ],
            "type": "surface"
           }
          ],
          "table": [
           {
            "cells": {
             "fill": {
              "color": "#EBF0F8"
             },
             "line": {
              "color": "white"
             }
            },
            "header": {
             "fill": {
              "color": "#C8D4E3"
             },
             "line": {
              "color": "white"
             }
            },
            "type": "table"
           }
          ]
         },
         "layout": {
          "annotationdefaults": {
           "arrowcolor": "#2a3f5f",
           "arrowhead": 0,
           "arrowwidth": 1
          },
          "autotypenumbers": "strict",
          "coloraxis": {
           "colorbar": {
            "outlinewidth": 0,
            "ticks": ""
           }
          },
          "colorscale": {
           "diverging": [
            [
             0,
             "#8e0152"
            ],
            [
             0.1,
             "#c51b7d"
            ],
            [
             0.2,
             "#de77ae"
            ],
            [
             0.3,
             "#f1b6da"
            ],
            [
             0.4,
             "#fde0ef"
            ],
            [
             0.5,
             "#f7f7f7"
            ],
            [
             0.6,
             "#e6f5d0"
            ],
            [
             0.7,
             "#b8e186"
            ],
            [
             0.8,
             "#7fbc41"
            ],
            [
             0.9,
             "#4d9221"
            ],
            [
             1,
             "#276419"
            ]
           ],
           "sequential": [
            [
             0,
             "#0d0887"
            ],
            [
             0.1111111111111111,
             "#46039f"
            ],
            [
             0.2222222222222222,
             "#7201a8"
            ],
            [
             0.3333333333333333,
             "#9c179e"
            ],
            [
             0.4444444444444444,
             "#bd3786"
            ],
            [
             0.5555555555555556,
             "#d8576b"
            ],
            [
             0.6666666666666666,
             "#ed7953"
            ],
            [
             0.7777777777777778,
             "#fb9f3a"
            ],
            [
             0.8888888888888888,
             "#fdca26"
            ],
            [
             1,
             "#f0f921"
            ]
           ],
           "sequentialminus": [
            [
             0,
             "#0d0887"
            ],
            [
             0.1111111111111111,
             "#46039f"
            ],
            [
             0.2222222222222222,
             "#7201a8"
            ],
            [
             0.3333333333333333,
             "#9c179e"
            ],
            [
             0.4444444444444444,
             "#bd3786"
            ],
            [
             0.5555555555555556,
             "#d8576b"
            ],
            [
             0.6666666666666666,
             "#ed7953"
            ],
            [
             0.7777777777777778,
             "#fb9f3a"
            ],
            [
             0.8888888888888888,
             "#fdca26"
            ],
            [
             1,
             "#f0f921"
            ]
           ]
          },
          "colorway": [
           "#636efa",
           "#EF553B",
           "#00cc96",
           "#ab63fa",
           "#FFA15A",
           "#19d3f3",
           "#FF6692",
           "#B6E880",
           "#FF97FF",
           "#FECB52"
          ],
          "font": {
           "color": "#2a3f5f"
          },
          "geo": {
           "bgcolor": "white",
           "lakecolor": "white",
           "landcolor": "#E5ECF6",
           "showlakes": true,
           "showland": true,
           "subunitcolor": "white"
          },
          "hoverlabel": {
           "align": "left"
          },
          "hovermode": "closest",
          "mapbox": {
           "style": "light"
          },
          "paper_bgcolor": "white",
          "plot_bgcolor": "#E5ECF6",
          "polar": {
           "angularaxis": {
            "gridcolor": "white",
            "linecolor": "white",
            "ticks": ""
           },
           "bgcolor": "#E5ECF6",
           "radialaxis": {
            "gridcolor": "white",
            "linecolor": "white",
            "ticks": ""
           }
          },
          "scene": {
           "xaxis": {
            "backgroundcolor": "#E5ECF6",
            "gridcolor": "white",
            "gridwidth": 2,
            "linecolor": "white",
            "showbackground": true,
            "ticks": "",
            "zerolinecolor": "white"
           },
           "yaxis": {
            "backgroundcolor": "#E5ECF6",
            "gridcolor": "white",
            "gridwidth": 2,
            "linecolor": "white",
            "showbackground": true,
            "ticks": "",
            "zerolinecolor": "white"
           },
           "zaxis": {
            "backgroundcolor": "#E5ECF6",
            "gridcolor": "white",
            "gridwidth": 2,
            "linecolor": "white",
            "showbackground": true,
            "ticks": "",
            "zerolinecolor": "white"
           }
          },
          "shapedefaults": {
           "line": {
            "color": "#2a3f5f"
           }
          },
          "ternary": {
           "aaxis": {
            "gridcolor": "white",
            "linecolor": "white",
            "ticks": ""
           },
           "baxis": {
            "gridcolor": "white",
            "linecolor": "white",
            "ticks": ""
           },
           "bgcolor": "#E5ECF6",
           "caxis": {
            "gridcolor": "white",
            "linecolor": "white",
            "ticks": ""
           }
          },
          "title": {
           "x": 0.05
          },
          "xaxis": {
           "automargin": true,
           "gridcolor": "white",
           "linecolor": "white",
           "ticks": "",
           "title": {
            "standoff": 15
           },
           "zerolinecolor": "white",
           "zerolinewidth": 2
          },
          "yaxis": {
           "automargin": true,
           "gridcolor": "white",
           "linecolor": "white",
           "ticks": "",
           "title": {
            "standoff": 15
           },
           "zerolinecolor": "white",
           "zerolinewidth": 2
          }
         }
        },
        "title": {
         "text": "Top 20 variables importance"
        },
        "width": 1200,
        "xaxis": {
         "anchor": "y",
         "domain": [
          0,
          1
         ],
         "title": {
          "text": "Variable name"
         }
        },
        "yaxis": {
         "anchor": "x",
         "domain": [
          0,
          1
         ],
         "title": {
          "text": "Coefficient"
         }
        }
       }
      }
     },
     "metadata": {},
     "output_type": "display_data"
    }
   ],
   "source": [
    "top_coefficients = pd.Series(\n",
    "        ridgeClassifierModel.coef_[0],\n",
    "        X_test_std.columns,\n",
    "    ).map(abs).sort_values(ascending=False).head(20)\n",
    "\n",
    "fig = px.bar(\n",
    "            top_coefficients,\n",
    "            color=top_coefficients.values,\n",
    "            title=\"Top 20 variables importance\",\n",
    "            labels={\n",
    "                \"index\": \"Variable name\",\n",
    "                \"value\": \"Coefficient\",\n",
    "                \"color\": \"Coefficient\",\n",
    "            },\n",
    "            width=1200,\n",
    "            height=800,\n",
    "        )\n",
    "fig.show()"
   ]
  },
  {
   "cell_type": "code",
   "execution_count": null,
   "metadata": {},
   "outputs": [
    {
     "name": "stdout",
     "output_type": "stream",
     "text": [
      "100%|██████████| 10/10 [1:47:33<00:00, 645.36s/trial, best loss: 0.011459441881262576]\n",
      "Temps total 0.4600832462310791 secondes:\n",
      "Best parameters : {'max_depth': 11, 'max_features': 'log2'}\n"
     ]
    },
    {
     "data": {
      "image/png": "[encoded data removed]",
      "text/plain": [
       "<Figure size 1728x576 with 4 Axes>"
      ]
     },
     "metadata": {
      "needs_background": "light"
     },
     "output_type": "display_data"
    }
   ],
   "source": [
    "randomForestModel = ensemble.RandomForestClassifier(n_estimators=200, n_jobs=-1, random_state=42)\n",
    "\n",
    "space = {\n",
    "        'max_depth': hp.choice('max_depth', [None] + list(range(2, 20, 3))),\n",
    "        'max_features': hp.choice('max_features', ['auto', 'sqrt', 'log2'])\n",
    "        }\n",
    "\n",
    "randomForest_results = dth.find_best_parameters(randomForestModel, space, X_train_std, y_train, X_test_std, smote=True)\n",
    "\n",
    "results['randomForestClassifier'] = randomForest_results\n",
    "\n",
    "print(f\"Temps total du predict : {randomForest_results['time']} secondes:\")\n",
    "print(f\"Meilleurs paramètres : {randomForest_results['best']}\")\n",
    "\n",
    "dth.plot_classifier_results(randomForest_results['classifier'], X_test_std, y_test)"
   ]
  },
  {
   "cell_type": "code",
   "execution_count": null,
   "metadata": {},
   "outputs": [
    {
     "name": "stdout",
     "output_type": "stream",
     "text": [
      "100%|██████████| 10/10 [12:23<00:00, 74.35s/trial, best loss: 0.013515416353326154]\n",
      "Temps total 0.2309894561767578 secondes:\n",
      "Best parameters : {'max_depth': 6}\n"
     ]
    },
    {
     "data": {
      "image/png": "[encoded data removed]",
      "text/plain": [
       "<Figure size 1728x576 with 4 Axes>"
      ]
     },
     "metadata": {
      "needs_background": "light"
     },
     "output_type": "display_data"
    }
   ],
   "source": [
    "lgbmModel = LGBMClassifier(n_jobs=-1, random_state=42, objective='binary')\n",
    "\n",
    "space = {\n",
    "        'max_depth': hp.choice('max_depth', [None] + list(range(0, 22, 3)))\n",
    "        }\n",
    "\n",
    "lgbmClassifier_results = dth.find_best_parameters(lgbmModel, space, X_train_std, y_train, X_test_std, smote=True)\n",
    "\n",
    "results['lgbmClassifier'] = lgbmClassifier_results\n",
    "\n",
    "print(f\"Temps total {lgbmClassifier_results['time']} secondes:\")\n",
    "print(f\"Best parameters : {lgbmClassifier_results['best']}\")\n",
    "\n",
    "dth.plot_classifier_results(lgbmClassifier_results['classifier'], X_test_std, y_test)"
   ]
  },
  {
   "cell_type": "code",
   "execution_count": null,
   "metadata": {},
   "outputs": [
    {
     "ename": "NameError",
     "evalue": "name 'SVC' is not defined",
     "output_type": "error",
     "traceback": [
      "\u001b[1;31m---------------------------------------------------------------------------\u001b[0m",
      "\u001b[1;31mNameError\u001b[0m                                 Traceback (most recent call last)",
      "\u001b[1;32m~\\AppData\\Local\\Temp/ipykernel_17552/801314006.py\u001b[0m in \u001b[0;36m<module>\u001b[1;34m\u001b[0m\n\u001b[1;32m----> 1\u001b[1;33m \u001b[0msvcModel\u001b[0m \u001b[1;33m=\u001b[0m \u001b[0mSVC\u001b[0m\u001b[1;33m(\u001b[0m\u001b[0mrandom_state\u001b[0m\u001b[1;33m=\u001b[0m\u001b[1;36m42\u001b[0m\u001b[1;33m)\u001b[0m\u001b[1;33m\u001b[0m\u001b[1;33m\u001b[0m\u001b[0m\n\u001b[0m\u001b[0;32m      2\u001b[0m \u001b[1;33m\u001b[0m\u001b[0m\n\u001b[0;32m      3\u001b[0m space = {\n\u001b[0;32m      4\u001b[0m         \u001b[1;34m'gamma'\u001b[0m\u001b[1;33m:\u001b[0m \u001b[0mhp\u001b[0m\u001b[1;33m.\u001b[0m\u001b[0mchoice\u001b[0m\u001b[1;33m(\u001b[0m\u001b[1;34m'gamma'\u001b[0m\u001b[1;33m,\u001b[0m \u001b[1;33m[\u001b[0m\u001b[1;34m'scale'\u001b[0m\u001b[1;33m,\u001b[0m \u001b[1;34m'auto'\u001b[0m\u001b[1;33m]\u001b[0m\u001b[1;33m)\u001b[0m\u001b[1;33m,\u001b[0m\u001b[1;33m\u001b[0m\u001b[1;33m\u001b[0m\u001b[0m\n\u001b[0;32m      5\u001b[0m         \u001b[1;34m'kernel'\u001b[0m\u001b[1;33m:\u001b[0m \u001b[0mhp\u001b[0m\u001b[1;33m.\u001b[0m\u001b[0mchoice\u001b[0m\u001b[1;33m(\u001b[0m\u001b[1;34m'kernel'\u001b[0m\u001b[1;33m,\u001b[0m \u001b[1;33m[\u001b[0m\u001b[1;34m'linear'\u001b[0m\u001b[1;33m,\u001b[0m \u001b[1;34m'poly'\u001b[0m\u001b[1;33m,\u001b[0m \u001b[1;34m'rbf'\u001b[0m\u001b[1;33m]\u001b[0m\u001b[1;33m)\u001b[0m\u001b[1;33m\u001b[0m\u001b[1;33m\u001b[0m\u001b[0m\n",
      "\u001b[1;31mNameError\u001b[0m: name 'SVC' is not defined"
     ]
    }
   ],
   "source": [
    "svcModel = SVC(random_state=42)\n",
    "\n",
    "space = {\n",
    "        'gamma': hp.choice('gamma', ['scale', 'auto']),\n",
    "        'kernel': hp.choice('kernel', ['linear', 'poly', 'rbf'])\n",
    "        }\n",
    "\n",
    "svc_results = dth.find_best_parameters(svcModel, space, X_train_std, y_train, X_test_std, smote=True)\n",
    "\n",
    "results['svcClassifier'] = svc_results\n",
    "\n",
    "print(f\"Temps total du predict : {svc_results['time']} secondes:\")\n",
    "print(f\"Meilleurs paramètres : {svc_results['best']}\")\n",
    "\n",
    "dth.plot_classifier_results(svc_results['classifier'], X_test_std, y_test)"
   ]
  }
 ],
 "metadata": {
  "kernelspec": {
   "display_name": "Python 3",
   "language": "python",
   "name": "python3"
  },
  "language_info": {
   "codemirror_mode": {
    "name": "ipython",
    "version": 3
   },
   "file_extension": ".py",
   "mimetype": "text/x-python",
   "name": "python",
   "nbconvert_exporter": "python",
   "pygments_lexer": "ipython3",
   "version": "3.8.12"
  }
 },
 "nbformat": 4,
 "nbformat_minor": 4
}

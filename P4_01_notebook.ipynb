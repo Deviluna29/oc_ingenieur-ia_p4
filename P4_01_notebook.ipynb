{
 "cells": [
  {
   "cell_type": "markdown",
   "source": [
    "# **Construisez un modèle de scoring**\n",
    "\n",
    "\n",
    "\n",
    "![logo.JPG](data/img/logo.JPG)\n",
    "\n",
    "La société financière **\"Prêt à dépenser\"** propose des crédits à la consommation pour des personnes ayant peu ou pas d'historique de prêt.\n",
    "\n",
    "Pour accorder un crédit à la consommation, l’entreprise souhaite mettre en œuvre un outil de “scoring crédit” qui calcule la probabilité qu’un client le rembourse ou non, puis classifie la demande : crédit accordé ou refusé.\n",
    "\n",
    "Le but est donc de développer un algorithme de classification pour aider à décider si un prêt peut être accordé à un client.\n",
    "\n",
    "---\n",
    "\n",
    "## Sommaire\n",
    "\n",
    "<ol>\n",
    "    <li><a href=\"#\">Environnement de développement</a></li>\n",
    "        <ol>\n",
    "            <li><a href=\"#installation\">Installation de l'environnement</a></li>\n",
    "            <li><a href=\"#librairies\">Import des librairies</a></li>\n",
    "        </ol>\n",
    "    <li><a href=\"#\"></a></li>\n",
    "</ol>\n",
    "\n"
   ],
   "metadata": {
    "collapsed": false,
    "pycharm": {
     "name": "#%% md\n"
    }
   }
  },
  {
   "cell_type": "markdown",
   "source": [
    "<a id=\"environnement\"></a>\n",
    "# Environnement de développement"
   ],
   "metadata": {
    "collapsed": false,
    "pycharm": {
     "name": "#%% md\n"
    }
   }
  },
  {
   "cell_type": "markdown",
   "source": [
    "<a id=\"installation\"></a>\n",
    "### Installation de l'environnement\n",
    "\n",
    "Un environnement virtuel a été créé pour assurer l’isolement du projet et la gestion des dépendances.\n",
    "Les informations de cet environnement (son nom et ses dépendances) sont précisées dans le fichier **environment.yml**\n",
    "\n",
    "L'installation de l'environnement virtuel est possible à partir de ce fichier, dans un invite de commande lancer la commande :\n",
    "\n",
    "<code>conda env create -f environment.yml</code>"
   ],
   "metadata": {
    "collapsed": false,
    "pycharm": {
     "name": "#%% md\n"
    }
   }
  },
  {
   "cell_type": "markdown",
   "source": [
    "<a id=\"librairies\"></a>\n",
    "### Import des librairies"
   ],
   "metadata": {
    "collapsed": false,
    "pycharm": {
     "name": "#%% md\n"
    }
   }
  },
  {
   "cell_type": "code",
   "execution_count": 161,
   "outputs": [],
   "source": [
    "%reload_ext autoreload\n",
    "%autoreload 2\n",
    "\n",
    "import gc\n",
    "\n",
    "# numpy et pandas pour la manipulation du data\n",
    "import numpy as np\n",
    "import pandas as pd\n",
    "\n",
    "# sklearn preprocessing pour traiter les variables catégorielles\n",
    "from sklearn.preprocessing import LabelEncoder\n",
    "\n",
    "# File system manangement\n",
    "import os\n",
    "\n",
    "# Suppress warnings\n",
    "import warnings\n",
    "warnings.filterwarnings('ignore')\n",
    "\n",
    "# matplotlib et seaborn pour tracer les graphes\n",
    "import matplotlib.pyplot as plt\n",
    "import seaborn as sns\n",
    "\n",
    "#autres librairies\n",
    "import missingno as msno\n",
    "\n",
    "# Import des modules contenant les fonctions utilitaires\n",
    "import src.my_module.data_helpers as dth"
   ],
   "metadata": {
    "collapsed": false,
    "pycharm": {
     "name": "#%%\n"
    }
   }
  },
  {
   "cell_type": "code",
   "execution_count": 162,
   "outputs": [],
   "source": [
    "# Réglage des graphiques\n",
    "plt.style.use('seaborn-whitegrid')\n",
    "\n",
    "plt.rc('font', size=12)\n",
    "plt.rc('axes', titlesize=20)\n",
    "plt.rc('axes', labelsize=20)\n",
    "plt.rc('xtick', labelsize=12)\n",
    "plt.rc('ytick', labelsize=12)\n",
    "plt.rc('legend', fontsize=12)\n",
    "\n",
    "dims_fig = (25,35)"
   ],
   "metadata": {
    "collapsed": false,
    "pycharm": {
     "name": "#%%\n"
    }
   }
  },
  {
   "cell_type": "markdown",
   "source": [
    "# Chargement des données"
   ],
   "metadata": {
    "collapsed": false,
    "pycharm": {
     "name": "#%% md\n"
    }
   }
  },
  {
   "cell_type": "code",
   "execution_count": 163,
   "outputs": [
    {
     "name": "stdout",
     "output_type": "stream",
     "text": [
      "Liste des fichiers :\n",
      "- application_test.csv\n",
      "- application_train.csv\n",
      "- bureau.csv\n",
      "- bureau_balance.csv\n",
      "- credit_card_balance.csv\n",
      "- HomeCredit_columns_description.csv\n",
      "- installments_payments.csv\n",
      "- POS_CASH_balance.csv\n",
      "- previous_application.csv\n",
      "- sample_submission.csv\n"
     ]
    }
   ],
   "source": [
    "#Affichage de la liste des différents fichiers\n",
    "print(\"Liste des fichiers :\")\n",
    "for file in os.listdir(\"data/\"):\n",
    "    if file.endswith(\".csv\"):\n",
    "        print(\"- \" + file)"
   ],
   "metadata": {
    "collapsed": false,
    "pycharm": {
     "name": "#%%\n"
    }
   }
  },
  {
   "cell_type": "markdown",
   "source": [
    "Ces fichiers sont fournis par <a href=\"https://www.homecredit.net//\">Home Credits</a>, un service dédié à l'octroi de crédits à ceux qui n'ont pas d'historique de crédit.\n",
    "\n",
    "Le diagramme suivant montre comment toutes les données sont liées :"
   ],
   "metadata": {
    "collapsed": false,
    "pycharm": {
     "name": "#%% md\n"
    }
   }
  },
  {
   "cell_type": "markdown",
   "source": [
    "![home_credit.png](data/img/home_credit.png)"
   ],
   "metadata": {
    "collapsed": false,
    "pycharm": {
     "name": "#%% md\n"
    }
   }
  },
  {
   "cell_type": "markdown",
   "source": [
    "On retrouve la définition de chaque colonne dans le fichier HomeCredit_columns_description.csv\n",
    "\n",
    "On va charger dans un premier temps les données des fichier **application_train.csv** et **application_test.csv**, que l'on va fusionner pour ensuite effectuer un nettoyage et la création de nouvelles features. On reséparera par la suite le dataset correctement pour l'entraînement de nos différents modèles, car :\n",
    "\n",
    "- Le fichier **application_train.csv** contient la colonne TARGET, qui est la valeur que l'on essaye de prédire, alors que le fichier **application_test.csv** quand à lui ne contient pas cette colonne TARGET."
   ],
   "metadata": {
    "collapsed": false,
    "pycharm": {
     "name": "#%% md\n"
    }
   }
  },
  {
   "cell_type": "code",
   "execution_count": 164,
   "outputs": [
    {
     "name": "stdout",
     "output_type": "stream",
     "text": [
      "Le jeu d'entraînement contient : 307511 lignes et 122 colonnes\n",
      "\n"
     ]
    }
   ],
   "source": [
    "# Jeu d'entraînement\n",
    "data = pd.read_csv('data/application_train.csv')\n",
    "dth.displayDataShape(\"Le jeu d'entraînement contient\", data)"
   ],
   "metadata": {
    "collapsed": false,
    "pycharm": {
     "name": "#%%\n"
    }
   }
  },
  {
   "cell_type": "code",
   "execution_count": 165,
   "metadata": {
    "pycharm": {
     "name": "#%%\n"
    }
   },
   "outputs": [
    {
     "data": {
      "text/plain": "   SK_ID_CURR  TARGET NAME_CONTRACT_TYPE CODE_GENDER FLAG_OWN_CAR  \\\n0      100002       1         Cash loans           M            N   \n1      100003       0         Cash loans           F            N   \n2      100004       0    Revolving loans           M            Y   \n3      100006       0         Cash loans           F            N   \n4      100007       0         Cash loans           M            N   \n5      100008       0         Cash loans           M            N   \n6      100009       0         Cash loans           F            Y   \n7      100010       0         Cash loans           M            Y   \n8      100011       0         Cash loans           F            N   \n9      100012       0    Revolving loans           M            N   \n\n  FLAG_OWN_REALTY  CNT_CHILDREN  AMT_INCOME_TOTAL  AMT_CREDIT  AMT_ANNUITY  \\\n0               Y             0          202500.0    406597.5      24700.5   \n1               N             0          270000.0   1293502.5      35698.5   \n2               Y             0           67500.0    135000.0       6750.0   \n3               Y             0          135000.0    312682.5      29686.5   \n4               Y             0          121500.0    513000.0      21865.5   \n5               Y             0           99000.0    490495.5      27517.5   \n6               Y             1          171000.0   1560726.0      41301.0   \n7               Y             0          360000.0   1530000.0      42075.0   \n8               Y             0          112500.0   1019610.0      33826.5   \n9               Y             0          135000.0    405000.0      20250.0   \n\n   ...  FLAG_DOCUMENT_18 FLAG_DOCUMENT_19 FLAG_DOCUMENT_20 FLAG_DOCUMENT_21  \\\n0  ...                 0                0                0                0   \n1  ...                 0                0                0                0   \n2  ...                 0                0                0                0   \n3  ...                 0                0                0                0   \n4  ...                 0                0                0                0   \n5  ...                 0                0                0                0   \n6  ...                 0                0                0                0   \n7  ...                 0                0                0                0   \n8  ...                 0                0                0                0   \n9  ...                 0                0                0                0   \n\n  AMT_REQ_CREDIT_BUREAU_HOUR AMT_REQ_CREDIT_BUREAU_DAY  \\\n0                        0.0                       0.0   \n1                        0.0                       0.0   \n2                        0.0                       0.0   \n3                        NaN                       NaN   \n4                        0.0                       0.0   \n5                        0.0                       0.0   \n6                        0.0                       0.0   \n7                        0.0                       0.0   \n8                        0.0                       0.0   \n9                        NaN                       NaN   \n\n   AMT_REQ_CREDIT_BUREAU_WEEK  AMT_REQ_CREDIT_BUREAU_MON  \\\n0                         0.0                        0.0   \n1                         0.0                        0.0   \n2                         0.0                        0.0   \n3                         NaN                        NaN   \n4                         0.0                        0.0   \n5                         0.0                        0.0   \n6                         0.0                        1.0   \n7                         0.0                        0.0   \n8                         0.0                        0.0   \n9                         NaN                        NaN   \n\n   AMT_REQ_CREDIT_BUREAU_QRT  AMT_REQ_CREDIT_BUREAU_YEAR  \n0                        0.0                         1.0  \n1                        0.0                         0.0  \n2                        0.0                         0.0  \n3                        NaN                         NaN  \n4                        0.0                         0.0  \n5                        1.0                         1.0  \n6                        1.0                         2.0  \n7                        0.0                         0.0  \n8                        0.0                         1.0  \n9                        NaN                         NaN  \n\n[10 rows x 122 columns]",
      "text/html": "<div>\n<style scoped>\n    .dataframe tbody tr th:only-of-type {\n        vertical-align: middle;\n    }\n\n    .dataframe tbody tr th {\n        vertical-align: top;\n    }\n\n    .dataframe thead th {\n        text-align: right;\n    }\n</style>\n<table border=\"1\" class=\"dataframe\">\n  <thead>\n    <tr style=\"text-align: right;\">\n      <th></th>\n      <th>SK_ID_CURR</th>\n      <th>TARGET</th>\n      <th>NAME_CONTRACT_TYPE</th>\n      <th>CODE_GENDER</th>\n      <th>FLAG_OWN_CAR</th>\n      <th>FLAG_OWN_REALTY</th>\n      <th>CNT_CHILDREN</th>\n      <th>AMT_INCOME_TOTAL</th>\n      <th>AMT_CREDIT</th>\n      <th>AMT_ANNUITY</th>\n      <th>...</th>\n      <th>FLAG_DOCUMENT_18</th>\n      <th>FLAG_DOCUMENT_19</th>\n      <th>FLAG_DOCUMENT_20</th>\n      <th>FLAG_DOCUMENT_21</th>\n      <th>AMT_REQ_CREDIT_BUREAU_HOUR</th>\n      <th>AMT_REQ_CREDIT_BUREAU_DAY</th>\n      <th>AMT_REQ_CREDIT_BUREAU_WEEK</th>\n      <th>AMT_REQ_CREDIT_BUREAU_MON</th>\n      <th>AMT_REQ_CREDIT_BUREAU_QRT</th>\n      <th>AMT_REQ_CREDIT_BUREAU_YEAR</th>\n    </tr>\n  </thead>\n  <tbody>\n    <tr>\n      <th>0</th>\n      <td>100002</td>\n      <td>1</td>\n      <td>Cash loans</td>\n      <td>M</td>\n      <td>N</td>\n      <td>Y</td>\n      <td>0</td>\n      <td>202500.0</td>\n      <td>406597.5</td>\n      <td>24700.5</td>\n      <td>...</td>\n      <td>0</td>\n      <td>0</td>\n      <td>0</td>\n      <td>0</td>\n      <td>0.0</td>\n      <td>0.0</td>\n      <td>0.0</td>\n      <td>0.0</td>\n      <td>0.0</td>\n      <td>1.0</td>\n    </tr>\n    <tr>\n      <th>1</th>\n      <td>100003</td>\n      <td>0</td>\n      <td>Cash loans</td>\n      <td>F</td>\n      <td>N</td>\n      <td>N</td>\n      <td>0</td>\n      <td>270000.0</td>\n      <td>1293502.5</td>\n      <td>35698.5</td>\n      <td>...</td>\n      <td>0</td>\n      <td>0</td>\n      <td>0</td>\n      <td>0</td>\n      <td>0.0</td>\n      <td>0.0</td>\n      <td>0.0</td>\n      <td>0.0</td>\n      <td>0.0</td>\n      <td>0.0</td>\n    </tr>\n    <tr>\n      <th>2</th>\n      <td>100004</td>\n      <td>0</td>\n      <td>Revolving loans</td>\n      <td>M</td>\n      <td>Y</td>\n      <td>Y</td>\n      <td>0</td>\n      <td>67500.0</td>\n      <td>135000.0</td>\n      <td>6750.0</td>\n      <td>...</td>\n      <td>0</td>\n      <td>0</td>\n      <td>0</td>\n      <td>0</td>\n      <td>0.0</td>\n      <td>0.0</td>\n      <td>0.0</td>\n      <td>0.0</td>\n      <td>0.0</td>\n      <td>0.0</td>\n    </tr>\n    <tr>\n      <th>3</th>\n      <td>100006</td>\n      <td>0</td>\n      <td>Cash loans</td>\n      <td>F</td>\n      <td>N</td>\n      <td>Y</td>\n      <td>0</td>\n      <td>135000.0</td>\n      <td>312682.5</td>\n      <td>29686.5</td>\n      <td>...</td>\n      <td>0</td>\n      <td>0</td>\n      <td>0</td>\n      <td>0</td>\n      <td>NaN</td>\n      <td>NaN</td>\n      <td>NaN</td>\n      <td>NaN</td>\n      <td>NaN</td>\n      <td>NaN</td>\n    </tr>\n    <tr>\n      <th>4</th>\n      <td>100007</td>\n      <td>0</td>\n      <td>Cash loans</td>\n      <td>M</td>\n      <td>N</td>\n      <td>Y</td>\n      <td>0</td>\n      <td>121500.0</td>\n      <td>513000.0</td>\n      <td>21865.5</td>\n      <td>...</td>\n      <td>0</td>\n      <td>0</td>\n      <td>0</td>\n      <td>0</td>\n      <td>0.0</td>\n      <td>0.0</td>\n      <td>0.0</td>\n      <td>0.0</td>\n      <td>0.0</td>\n      <td>0.0</td>\n    </tr>\n    <tr>\n      <th>5</th>\n      <td>100008</td>\n      <td>0</td>\n      <td>Cash loans</td>\n      <td>M</td>\n      <td>N</td>\n      <td>Y</td>\n      <td>0</td>\n      <td>99000.0</td>\n      <td>490495.5</td>\n      <td>27517.5</td>\n      <td>...</td>\n      <td>0</td>\n      <td>0</td>\n      <td>0</td>\n      <td>0</td>\n      <td>0.0</td>\n      <td>0.0</td>\n      <td>0.0</td>\n      <td>0.0</td>\n      <td>1.0</td>\n      <td>1.0</td>\n    </tr>\n    <tr>\n      <th>6</th>\n      <td>100009</td>\n      <td>0</td>\n      <td>Cash loans</td>\n      <td>F</td>\n      <td>Y</td>\n      <td>Y</td>\n      <td>1</td>\n      <td>171000.0</td>\n      <td>1560726.0</td>\n      <td>41301.0</td>\n      <td>...</td>\n      <td>0</td>\n      <td>0</td>\n      <td>0</td>\n      <td>0</td>\n      <td>0.0</td>\n      <td>0.0</td>\n      <td>0.0</td>\n      <td>1.0</td>\n      <td>1.0</td>\n      <td>2.0</td>\n    </tr>\n    <tr>\n      <th>7</th>\n      <td>100010</td>\n      <td>0</td>\n      <td>Cash loans</td>\n      <td>M</td>\n      <td>Y</td>\n      <td>Y</td>\n      <td>0</td>\n      <td>360000.0</td>\n      <td>1530000.0</td>\n      <td>42075.0</td>\n      <td>...</td>\n      <td>0</td>\n      <td>0</td>\n      <td>0</td>\n      <td>0</td>\n      <td>0.0</td>\n      <td>0.0</td>\n      <td>0.0</td>\n      <td>0.0</td>\n      <td>0.0</td>\n      <td>0.0</td>\n    </tr>\n    <tr>\n      <th>8</th>\n      <td>100011</td>\n      <td>0</td>\n      <td>Cash loans</td>\n      <td>F</td>\n      <td>N</td>\n      <td>Y</td>\n      <td>0</td>\n      <td>112500.0</td>\n      <td>1019610.0</td>\n      <td>33826.5</td>\n      <td>...</td>\n      <td>0</td>\n      <td>0</td>\n      <td>0</td>\n      <td>0</td>\n      <td>0.0</td>\n      <td>0.0</td>\n      <td>0.0</td>\n      <td>0.0</td>\n      <td>0.0</td>\n      <td>1.0</td>\n    </tr>\n    <tr>\n      <th>9</th>\n      <td>100012</td>\n      <td>0</td>\n      <td>Revolving loans</td>\n      <td>M</td>\n      <td>N</td>\n      <td>Y</td>\n      <td>0</td>\n      <td>135000.0</td>\n      <td>405000.0</td>\n      <td>20250.0</td>\n      <td>...</td>\n      <td>0</td>\n      <td>0</td>\n      <td>0</td>\n      <td>0</td>\n      <td>NaN</td>\n      <td>NaN</td>\n      <td>NaN</td>\n      <td>NaN</td>\n      <td>NaN</td>\n      <td>NaN</td>\n    </tr>\n  </tbody>\n</table>\n<p>10 rows × 122 columns</p>\n</div>"
     },
     "execution_count": 165,
     "metadata": {},
     "output_type": "execute_result"
    }
   ],
   "source": [
    "data.head(10)"
   ]
  },
  {
   "cell_type": "code",
   "execution_count": 166,
   "outputs": [
    {
     "name": "stdout",
     "output_type": "stream",
     "text": [
      "Le jeu de test contient : 48744 lignes et 121 colonnes\n",
      "\n"
     ]
    }
   ],
   "source": [
    "# Jeu de test\n",
    "test_data = pd.read_csv('data/application_test.csv')\n",
    "dth.displayDataShape(\"Le jeu de test contient\", test_data)"
   ],
   "metadata": {
    "collapsed": false,
    "pycharm": {
     "name": "#%%\n"
    }
   }
  },
  {
   "cell_type": "code",
   "execution_count": 167,
   "outputs": [
    {
     "data": {
      "text/plain": "   SK_ID_CURR NAME_CONTRACT_TYPE CODE_GENDER FLAG_OWN_CAR FLAG_OWN_REALTY  \\\n0      100001         Cash loans           F            N               Y   \n1      100005         Cash loans           M            N               Y   \n2      100013         Cash loans           M            Y               Y   \n3      100028         Cash loans           F            N               Y   \n4      100038         Cash loans           M            Y               N   \n\n   CNT_CHILDREN  AMT_INCOME_TOTAL  AMT_CREDIT  AMT_ANNUITY  AMT_GOODS_PRICE  \\\n0             0          135000.0    568800.0      20560.5         450000.0   \n1             0           99000.0    222768.0      17370.0         180000.0   \n2             0          202500.0    663264.0      69777.0         630000.0   \n3             2          315000.0   1575000.0      49018.5        1575000.0   \n4             1          180000.0    625500.0      32067.0         625500.0   \n\n   ... FLAG_DOCUMENT_18 FLAG_DOCUMENT_19 FLAG_DOCUMENT_20 FLAG_DOCUMENT_21  \\\n0  ...                0                0                0                0   \n1  ...                0                0                0                0   \n2  ...                0                0                0                0   \n3  ...                0                0                0                0   \n4  ...                0                0                0                0   \n\n  AMT_REQ_CREDIT_BUREAU_HOUR  AMT_REQ_CREDIT_BUREAU_DAY  \\\n0                        0.0                        0.0   \n1                        0.0                        0.0   \n2                        0.0                        0.0   \n3                        0.0                        0.0   \n4                        NaN                        NaN   \n\n   AMT_REQ_CREDIT_BUREAU_WEEK  AMT_REQ_CREDIT_BUREAU_MON  \\\n0                         0.0                        0.0   \n1                         0.0                        0.0   \n2                         0.0                        0.0   \n3                         0.0                        0.0   \n4                         NaN                        NaN   \n\n   AMT_REQ_CREDIT_BUREAU_QRT  AMT_REQ_CREDIT_BUREAU_YEAR  \n0                        0.0                         0.0  \n1                        0.0                         3.0  \n2                        1.0                         4.0  \n3                        0.0                         3.0  \n4                        NaN                         NaN  \n\n[5 rows x 121 columns]",
      "text/html": "<div>\n<style scoped>\n    .dataframe tbody tr th:only-of-type {\n        vertical-align: middle;\n    }\n\n    .dataframe tbody tr th {\n        vertical-align: top;\n    }\n\n    .dataframe thead th {\n        text-align: right;\n    }\n</style>\n<table border=\"1\" class=\"dataframe\">\n  <thead>\n    <tr style=\"text-align: right;\">\n      <th></th>\n      <th>SK_ID_CURR</th>\n      <th>NAME_CONTRACT_TYPE</th>\n      <th>CODE_GENDER</th>\n      <th>FLAG_OWN_CAR</th>\n      <th>FLAG_OWN_REALTY</th>\n      <th>CNT_CHILDREN</th>\n      <th>AMT_INCOME_TOTAL</th>\n      <th>AMT_CREDIT</th>\n      <th>AMT_ANNUITY</th>\n      <th>AMT_GOODS_PRICE</th>\n      <th>...</th>\n      <th>FLAG_DOCUMENT_18</th>\n      <th>FLAG_DOCUMENT_19</th>\n      <th>FLAG_DOCUMENT_20</th>\n      <th>FLAG_DOCUMENT_21</th>\n      <th>AMT_REQ_CREDIT_BUREAU_HOUR</th>\n      <th>AMT_REQ_CREDIT_BUREAU_DAY</th>\n      <th>AMT_REQ_CREDIT_BUREAU_WEEK</th>\n      <th>AMT_REQ_CREDIT_BUREAU_MON</th>\n      <th>AMT_REQ_CREDIT_BUREAU_QRT</th>\n      <th>AMT_REQ_CREDIT_BUREAU_YEAR</th>\n    </tr>\n  </thead>\n  <tbody>\n    <tr>\n      <th>0</th>\n      <td>100001</td>\n      <td>Cash loans</td>\n      <td>F</td>\n      <td>N</td>\n      <td>Y</td>\n      <td>0</td>\n      <td>135000.0</td>\n      <td>568800.0</td>\n      <td>20560.5</td>\n      <td>450000.0</td>\n      <td>...</td>\n      <td>0</td>\n      <td>0</td>\n      <td>0</td>\n      <td>0</td>\n      <td>0.0</td>\n      <td>0.0</td>\n      <td>0.0</td>\n      <td>0.0</td>\n      <td>0.0</td>\n      <td>0.0</td>\n    </tr>\n    <tr>\n      <th>1</th>\n      <td>100005</td>\n      <td>Cash loans</td>\n      <td>M</td>\n      <td>N</td>\n      <td>Y</td>\n      <td>0</td>\n      <td>99000.0</td>\n      <td>222768.0</td>\n      <td>17370.0</td>\n      <td>180000.0</td>\n      <td>...</td>\n      <td>0</td>\n      <td>0</td>\n      <td>0</td>\n      <td>0</td>\n      <td>0.0</td>\n      <td>0.0</td>\n      <td>0.0</td>\n      <td>0.0</td>\n      <td>0.0</td>\n      <td>3.0</td>\n    </tr>\n    <tr>\n      <th>2</th>\n      <td>100013</td>\n      <td>Cash loans</td>\n      <td>M</td>\n      <td>Y</td>\n      <td>Y</td>\n      <td>0</td>\n      <td>202500.0</td>\n      <td>663264.0</td>\n      <td>69777.0</td>\n      <td>630000.0</td>\n      <td>...</td>\n      <td>0</td>\n      <td>0</td>\n      <td>0</td>\n      <td>0</td>\n      <td>0.0</td>\n      <td>0.0</td>\n      <td>0.0</td>\n      <td>0.0</td>\n      <td>1.0</td>\n      <td>4.0</td>\n    </tr>\n    <tr>\n      <th>3</th>\n      <td>100028</td>\n      <td>Cash loans</td>\n      <td>F</td>\n      <td>N</td>\n      <td>Y</td>\n      <td>2</td>\n      <td>315000.0</td>\n      <td>1575000.0</td>\n      <td>49018.5</td>\n      <td>1575000.0</td>\n      <td>...</td>\n      <td>0</td>\n      <td>0</td>\n      <td>0</td>\n      <td>0</td>\n      <td>0.0</td>\n      <td>0.0</td>\n      <td>0.0</td>\n      <td>0.0</td>\n      <td>0.0</td>\n      <td>3.0</td>\n    </tr>\n    <tr>\n      <th>4</th>\n      <td>100038</td>\n      <td>Cash loans</td>\n      <td>M</td>\n      <td>Y</td>\n      <td>N</td>\n      <td>1</td>\n      <td>180000.0</td>\n      <td>625500.0</td>\n      <td>32067.0</td>\n      <td>625500.0</td>\n      <td>...</td>\n      <td>0</td>\n      <td>0</td>\n      <td>0</td>\n      <td>0</td>\n      <td>NaN</td>\n      <td>NaN</td>\n      <td>NaN</td>\n      <td>NaN</td>\n      <td>NaN</td>\n      <td>NaN</td>\n    </tr>\n  </tbody>\n</table>\n<p>5 rows × 121 columns</p>\n</div>"
     },
     "execution_count": 167,
     "metadata": {},
     "output_type": "execute_result"
    }
   ],
   "source": [
    "test_data.head()"
   ],
   "metadata": {
    "collapsed": false,
    "pycharm": {
     "name": "#%%\n"
    }
   }
  },
  {
   "cell_type": "markdown",
   "source": [
    "Le jeu de test est plus petit et ne contient pas la variable TARGET"
   ],
   "metadata": {
    "collapsed": false,
    "pycharm": {
     "name": "#%% md\n"
    }
   }
  },
  {
   "cell_type": "markdown",
   "source": [
    "# Analyse exploratoire\n",
    "Avant de fusionner les 2 fichiers pour effectuer différents traitements, nous analyserons les différentes variables du jeu de données d'entraînement."
   ],
   "metadata": {
    "collapsed": false,
    "pycharm": {
     "name": "#%% md\n"
    }
   }
  },
  {
   "cell_type": "markdown",
   "source": [
    "### La colonne TARGET\n",
    "La variable **TARGET** est celle que notre modèle doit prédire\n",
    "\n",
    "- TARGET=1 correspond à un prêt non remboursé\n",
    "- TARGET=0 correspond à un prêt remboursé"
   ],
   "metadata": {
    "collapsed": false,
    "pycharm": {
     "name": "#%% md\n"
    }
   }
  },
  {
   "cell_type": "code",
   "execution_count": 168,
   "outputs": [
    {
     "data": {
      "text/plain": "0    282686\n1     24825\nName: TARGET, dtype: int64"
     },
     "execution_count": 168,
     "metadata": {},
     "output_type": "execute_result"
    }
   ],
   "source": [
    "data['TARGET'].value_counts()"
   ],
   "metadata": {
    "collapsed": false,
    "pycharm": {
     "name": "#%%\n"
    }
   }
  },
  {
   "cell_type": "markdown",
   "source": [
    "Nous avons affaire ici à un problème de classification binaire, avec un **jeu d'entraînement déséquilibré**.\n",
    "Il y a beaucoup plus de prêts remboursés que de prêts non remboursés.\n",
    "\n",
    "Il faudra rééquilibrer ces classes avant d'entraîner un modèle supervisé."
   ],
   "metadata": {
    "collapsed": false,
    "pycharm": {
     "name": "#%% md\n"
    }
   }
  },
  {
   "cell_type": "markdown",
   "source": [
    "### Valeurs manquantes\n",
    "On va maintenant examiner le nombre de valeurs manquantes pour chaque colonne"
   ],
   "metadata": {
    "collapsed": false,
    "pycharm": {
     "name": "#%% md\n"
    }
   }
  },
  {
   "cell_type": "code",
   "execution_count": 169,
   "outputs": [
    {
     "name": "stdout",
     "output_type": "stream",
     "text": [
      "Affichage du nombre de valeurs manquantes en % pour chaque colonne\n",
      "Le jeu de données contient 122 colonnes.\n",
      "67 colonnes ont des valeurs manquantes.\n"
     ]
    },
    {
     "data": {
      "text/plain": "                          Valeurs manquantes  % de valeurs manquantes\nCOMMONAREA_MEDI                       214865                     69.9\nCOMMONAREA_AVG                        214865                     69.9\nCOMMONAREA_MODE                       214865                     69.9\nNONLIVINGAPARTMENTS_MEDI              213514                     69.4\nNONLIVINGAPARTMENTS_MODE              213514                     69.4\n...                                      ...                      ...\nEXT_SOURCE_2                             660                      0.2\nAMT_GOODS_PRICE                          278                      0.1\nAMT_ANNUITY                               12                      0.0\nCNT_FAM_MEMBERS                            2                      0.0\nDAYS_LAST_PHONE_CHANGE                     1                      0.0\n\n[67 rows x 2 columns]",
      "text/html": "<div>\n<style scoped>\n    .dataframe tbody tr th:only-of-type {\n        vertical-align: middle;\n    }\n\n    .dataframe tbody tr th {\n        vertical-align: top;\n    }\n\n    .dataframe thead th {\n        text-align: right;\n    }\n</style>\n<table border=\"1\" class=\"dataframe\">\n  <thead>\n    <tr style=\"text-align: right;\">\n      <th></th>\n      <th>Valeurs manquantes</th>\n      <th>% de valeurs manquantes</th>\n    </tr>\n  </thead>\n  <tbody>\n    <tr>\n      <th>COMMONAREA_MEDI</th>\n      <td>214865</td>\n      <td>69.9</td>\n    </tr>\n    <tr>\n      <th>COMMONAREA_AVG</th>\n      <td>214865</td>\n      <td>69.9</td>\n    </tr>\n    <tr>\n      <th>COMMONAREA_MODE</th>\n      <td>214865</td>\n      <td>69.9</td>\n    </tr>\n    <tr>\n      <th>NONLIVINGAPARTMENTS_MEDI</th>\n      <td>213514</td>\n      <td>69.4</td>\n    </tr>\n    <tr>\n      <th>NONLIVINGAPARTMENTS_MODE</th>\n      <td>213514</td>\n      <td>69.4</td>\n    </tr>\n    <tr>\n      <th>...</th>\n      <td>...</td>\n      <td>...</td>\n    </tr>\n    <tr>\n      <th>EXT_SOURCE_2</th>\n      <td>660</td>\n      <td>0.2</td>\n    </tr>\n    <tr>\n      <th>AMT_GOODS_PRICE</th>\n      <td>278</td>\n      <td>0.1</td>\n    </tr>\n    <tr>\n      <th>AMT_ANNUITY</th>\n      <td>12</td>\n      <td>0.0</td>\n    </tr>\n    <tr>\n      <th>CNT_FAM_MEMBERS</th>\n      <td>2</td>\n      <td>0.0</td>\n    </tr>\n    <tr>\n      <th>DAYS_LAST_PHONE_CHANGE</th>\n      <td>1</td>\n      <td>0.0</td>\n    </tr>\n  </tbody>\n</table>\n<p>67 rows × 2 columns</p>\n</div>"
     },
     "execution_count": 169,
     "metadata": {},
     "output_type": "execute_result"
    }
   ],
   "source": [
    "print(\"Affichage du nombre de valeurs manquantes en % pour chaque colonne\")\n",
    "dth.displayNanPercent(data)"
   ],
   "metadata": {
    "collapsed": false,
    "pycharm": {
     "name": "#%%\n"
    }
   }
  },
  {
   "cell_type": "code",
   "execution_count": 170,
   "outputs": [
    {
     "name": "stdout",
     "output_type": "stream",
     "text": [
      "Affichage graphique du remplissage des colonnes\n"
     ]
    }
   ],
   "source": [
    "print(\"Affichage graphique du remplissage des colonnes\")\n",
    "#msno.bar(data)"
   ],
   "metadata": {
    "collapsed": false,
    "pycharm": {
     "name": "#%%\n"
    }
   }
  },
  {
   "cell_type": "markdown",
   "source": [
    "La plupart des colonnes sont bien remplies, et les moins remplies ont au moins 30% de valeurs non nulles, on va donc garder toutes les colonnes pour le moment.\n",
    "\n",
    "Cela ne devrait pas poser de problème pour la suite, mais il faudra quand même imputer ces valeurs manquantes."
   ],
   "metadata": {
    "collapsed": false,
    "pycharm": {
     "name": "#%% md\n"
    }
   }
  },
  {
   "cell_type": "markdown",
   "source": [
    "### Types des colonnes"
   ],
   "metadata": {
    "collapsed": false,
    "pycharm": {
     "name": "#%% md\n"
    }
   }
  },
  {
   "cell_type": "code",
   "execution_count": 171,
   "outputs": [
    {
     "data": {
      "text/plain": "float64    65\nint64      41\nobject     16\ndtype: int64"
     },
     "execution_count": 171,
     "metadata": {},
     "output_type": "execute_result"
    }
   ],
   "source": [
    "data.dtypes.value_counts()"
   ],
   "metadata": {
    "collapsed": false,
    "pycharm": {
     "name": "#%%\n"
    }
   }
  },
  {
   "cell_type": "code",
   "execution_count": 172,
   "outputs": [
    {
     "data": {
      "text/plain": "                             count  \\\nNAME_CONTRACT_TYPE          307511   \nCODE_GENDER                 307511   \nFLAG_OWN_CAR                307511   \nFLAG_OWN_REALTY             307511   \nNAME_TYPE_SUITE             306219   \nNAME_INCOME_TYPE            307511   \nNAME_EDUCATION_TYPE         307511   \nNAME_FAMILY_STATUS          307511   \nNAME_HOUSING_TYPE           307511   \nOCCUPATION_TYPE             211120   \nWEEKDAY_APPR_PROCESS_START  307511   \nORGANIZATION_TYPE           307511   \nFONDKAPREMONT_MODE           97216   \nHOUSETYPE_MODE              153214   \nWALLSMATERIAL_MODE          151170   \nEMERGENCYSTATE_MODE         161756   \n\n                                                                       unique  \\\nNAME_CONTRACT_TYPE                              [Cash loans, Revolving loans]   \nCODE_GENDER                                                       [M, F, XNA]   \nFLAG_OWN_CAR                                                           [N, Y]   \nFLAG_OWN_REALTY                                                        [Y, N]   \nNAME_TYPE_SUITE             [Unaccompanied, Family, Spouse, partner, Child...   \nNAME_INCOME_TYPE            [Working, State servant, Commercial associate,...   \nNAME_EDUCATION_TYPE         [Secondary / secondary special, Higher educati...   \nNAME_FAMILY_STATUS          [Single / not married, Married, Civil marriage...   \nNAME_HOUSING_TYPE           [House / apartment, Rented apartment, With par...   \nOCCUPATION_TYPE             [Laborers, Core staff, Accountants, Managers, ...   \nWEEKDAY_APPR_PROCESS_START  [WEDNESDAY, MONDAY, THURSDAY, SUNDAY, SATURDAY...   \nORGANIZATION_TYPE           [Business Entity Type 3, School, Government, R...   \nFONDKAPREMONT_MODE          [reg oper account, nan, org spec account, reg ...   \nHOUSETYPE_MODE              [block of flats, nan, terraced house, specific...   \nWALLSMATERIAL_MODE          [Stone, brick, Block, nan, Panel, Mixed, Woode...   \nEMERGENCYSTATE_MODE                                            [No, nan, Yes]   \n\n                                                      top    freq  nunique  \nNAME_CONTRACT_TYPE                             Cash loans  278232        2  \nCODE_GENDER                                             F  202448        3  \nFLAG_OWN_CAR                                            N  202924        2  \nFLAG_OWN_REALTY                                         Y  213312        2  \nNAME_TYPE_SUITE                             Unaccompanied  248526        7  \nNAME_INCOME_TYPE                                  Working  158774        8  \nNAME_EDUCATION_TYPE         Secondary / secondary special  218391        5  \nNAME_FAMILY_STATUS                                Married  196432        6  \nNAME_HOUSING_TYPE                       House / apartment  272868        6  \nOCCUPATION_TYPE                                  Laborers   55186       18  \nWEEKDAY_APPR_PROCESS_START                        TUESDAY   53901        7  \nORGANIZATION_TYPE                  Business Entity Type 3   67992       58  \nFONDKAPREMONT_MODE                       reg oper account   73830        4  \nHOUSETYPE_MODE                             block of flats  150503        3  \nWALLSMATERIAL_MODE                                  Panel   66040        7  \nEMERGENCYSTATE_MODE                                    No  159428        2  ",
      "text/html": "<div>\n<style scoped>\n    .dataframe tbody tr th:only-of-type {\n        vertical-align: middle;\n    }\n\n    .dataframe tbody tr th {\n        vertical-align: top;\n    }\n\n    .dataframe thead th {\n        text-align: right;\n    }\n</style>\n<table border=\"1\" class=\"dataframe\">\n  <thead>\n    <tr style=\"text-align: right;\">\n      <th></th>\n      <th>count</th>\n      <th>unique</th>\n      <th>top</th>\n      <th>freq</th>\n      <th>nunique</th>\n    </tr>\n  </thead>\n  <tbody>\n    <tr>\n      <th>NAME_CONTRACT_TYPE</th>\n      <td>307511</td>\n      <td>[Cash loans, Revolving loans]</td>\n      <td>Cash loans</td>\n      <td>278232</td>\n      <td>2</td>\n    </tr>\n    <tr>\n      <th>CODE_GENDER</th>\n      <td>307511</td>\n      <td>[M, F, XNA]</td>\n      <td>F</td>\n      <td>202448</td>\n      <td>3</td>\n    </tr>\n    <tr>\n      <th>FLAG_OWN_CAR</th>\n      <td>307511</td>\n      <td>[N, Y]</td>\n      <td>N</td>\n      <td>202924</td>\n      <td>2</td>\n    </tr>\n    <tr>\n      <th>FLAG_OWN_REALTY</th>\n      <td>307511</td>\n      <td>[Y, N]</td>\n      <td>Y</td>\n      <td>213312</td>\n      <td>2</td>\n    </tr>\n    <tr>\n      <th>NAME_TYPE_SUITE</th>\n      <td>306219</td>\n      <td>[Unaccompanied, Family, Spouse, partner, Child...</td>\n      <td>Unaccompanied</td>\n      <td>248526</td>\n      <td>7</td>\n    </tr>\n    <tr>\n      <th>NAME_INCOME_TYPE</th>\n      <td>307511</td>\n      <td>[Working, State servant, Commercial associate,...</td>\n      <td>Working</td>\n      <td>158774</td>\n      <td>8</td>\n    </tr>\n    <tr>\n      <th>NAME_EDUCATION_TYPE</th>\n      <td>307511</td>\n      <td>[Secondary / secondary special, Higher educati...</td>\n      <td>Secondary / secondary special</td>\n      <td>218391</td>\n      <td>5</td>\n    </tr>\n    <tr>\n      <th>NAME_FAMILY_STATUS</th>\n      <td>307511</td>\n      <td>[Single / not married, Married, Civil marriage...</td>\n      <td>Married</td>\n      <td>196432</td>\n      <td>6</td>\n    </tr>\n    <tr>\n      <th>NAME_HOUSING_TYPE</th>\n      <td>307511</td>\n      <td>[House / apartment, Rented apartment, With par...</td>\n      <td>House / apartment</td>\n      <td>272868</td>\n      <td>6</td>\n    </tr>\n    <tr>\n      <th>OCCUPATION_TYPE</th>\n      <td>211120</td>\n      <td>[Laborers, Core staff, Accountants, Managers, ...</td>\n      <td>Laborers</td>\n      <td>55186</td>\n      <td>18</td>\n    </tr>\n    <tr>\n      <th>WEEKDAY_APPR_PROCESS_START</th>\n      <td>307511</td>\n      <td>[WEDNESDAY, MONDAY, THURSDAY, SUNDAY, SATURDAY...</td>\n      <td>TUESDAY</td>\n      <td>53901</td>\n      <td>7</td>\n    </tr>\n    <tr>\n      <th>ORGANIZATION_TYPE</th>\n      <td>307511</td>\n      <td>[Business Entity Type 3, School, Government, R...</td>\n      <td>Business Entity Type 3</td>\n      <td>67992</td>\n      <td>58</td>\n    </tr>\n    <tr>\n      <th>FONDKAPREMONT_MODE</th>\n      <td>97216</td>\n      <td>[reg oper account, nan, org spec account, reg ...</td>\n      <td>reg oper account</td>\n      <td>73830</td>\n      <td>4</td>\n    </tr>\n    <tr>\n      <th>HOUSETYPE_MODE</th>\n      <td>153214</td>\n      <td>[block of flats, nan, terraced house, specific...</td>\n      <td>block of flats</td>\n      <td>150503</td>\n      <td>3</td>\n    </tr>\n    <tr>\n      <th>WALLSMATERIAL_MODE</th>\n      <td>151170</td>\n      <td>[Stone, brick, Block, nan, Panel, Mixed, Woode...</td>\n      <td>Panel</td>\n      <td>66040</td>\n      <td>7</td>\n    </tr>\n    <tr>\n      <th>EMERGENCYSTATE_MODE</th>\n      <td>161756</td>\n      <td>[No, nan, Yes]</td>\n      <td>No</td>\n      <td>159428</td>\n      <td>2</td>\n    </tr>\n  </tbody>\n</table>\n</div>"
     },
     "execution_count": 172,
     "metadata": {},
     "output_type": "execute_result"
    }
   ],
   "source": [
    "data_object_infos = data.select_dtypes(\"object\").describe().T\n",
    "data_object_infos[\"unique\"] = data.select_dtypes(\"object\").apply( pd.Series.unique, axis=0)\n",
    "data_object_infos[\"nunique\"] = data.select_dtypes(\"object\").apply( pd.Series.nunique, axis=0)\n",
    "data_object_infos"
   ],
   "metadata": {
    "collapsed": false,
    "pycharm": {
     "name": "#%%\n"
    }
   }
  },
  {
   "cell_type": "code",
   "execution_count": 173,
   "outputs": [
    {
     "data": {
      "text/plain": "                             Nombre de valeur unique  \\\nLIVE_CITY_NOT_WORK_CITY                            2   \nFLAG_DOCUMENT_3                                    2   \nFLAG_DOCUMENT_4                                    2   \nFLAG_DOCUMENT_5                                    2   \nFLAG_DOCUMENT_6                                    2   \nFLAG_DOCUMENT_7                                    2   \nFLAG_DOCUMENT_8                                    2   \nFLAG_DOCUMENT_9                                    2   \nFLAG_DOCUMENT_10                                   2   \nFLAG_DOCUMENT_11                                   2   \nFLAG_DOCUMENT_12                                   2   \nFLAG_DOCUMENT_13                                   2   \nFLAG_DOCUMENT_14                                   2   \nFLAG_DOCUMENT_15                                   2   \nFLAG_DOCUMENT_16                                   2   \nFLAG_DOCUMENT_17                                   2   \nFLAG_DOCUMENT_18                                   2   \nFLAG_DOCUMENT_19                                   2   \nFLAG_DOCUMENT_2                                    2   \nFLAG_DOCUMENT_20                                   2   \nFLAG_DOCUMENT_21                                   2   \nREG_CITY_NOT_LIVE_CITY                             2   \nTARGET                                             2   \nFLAG_MOBIL                                         2   \nFLAG_EMP_PHONE                                     2   \nFLAG_WORK_PHONE                                    2   \nREG_CITY_NOT_WORK_CITY                             2   \nFLAG_PHONE                                         2   \nFLAG_CONT_MOBILE                                   2   \nREG_REGION_NOT_LIVE_REGION                         2   \nREG_REGION_NOT_WORK_REGION                         2   \nLIVE_REGION_NOT_WORK_REGION                        2   \nFLAG_EMAIL                                         2   \nREGION_RATING_CLIENT                               3   \nREGION_RATING_CLIENT_W_CITY                        3   \nCNT_CHILDREN                                      15   \nHOUR_APPR_PROCESS_START                           24   \nDAYS_ID_PUBLISH                                 6168   \nDAYS_EMPLOYED                                  12574   \nDAYS_BIRTH                                     17460   \nSK_ID_CURR                                    307511   \n\n                                                                 valeur unique  \nLIVE_CITY_NOT_WORK_CITY                                                 [0, 1]  \nFLAG_DOCUMENT_3                                                         [1, 0]  \nFLAG_DOCUMENT_4                                                         [0, 1]  \nFLAG_DOCUMENT_5                                                         [0, 1]  \nFLAG_DOCUMENT_6                                                         [0, 1]  \nFLAG_DOCUMENT_7                                                         [0, 1]  \nFLAG_DOCUMENT_8                                                         [0, 1]  \nFLAG_DOCUMENT_9                                                         [0, 1]  \nFLAG_DOCUMENT_10                                                        [0, 1]  \nFLAG_DOCUMENT_11                                                        [0, 1]  \nFLAG_DOCUMENT_12                                                        [0, 1]  \nFLAG_DOCUMENT_13                                                        [0, 1]  \nFLAG_DOCUMENT_14                                                        [0, 1]  \nFLAG_DOCUMENT_15                                                        [0, 1]  \nFLAG_DOCUMENT_16                                                        [0, 1]  \nFLAG_DOCUMENT_17                                                        [0, 1]  \nFLAG_DOCUMENT_18                                                        [0, 1]  \nFLAG_DOCUMENT_19                                                        [0, 1]  \nFLAG_DOCUMENT_2                                                         [0, 1]  \nFLAG_DOCUMENT_20                                                        [0, 1]  \nFLAG_DOCUMENT_21                                                        [0, 1]  \nREG_CITY_NOT_LIVE_CITY                                                  [0, 1]  \nTARGET                                                                  [1, 0]  \nFLAG_MOBIL                                                              [1, 0]  \nFLAG_EMP_PHONE                                                          [1, 0]  \nFLAG_WORK_PHONE                                                         [0, 1]  \nREG_CITY_NOT_WORK_CITY                                                  [0, 1]  \nFLAG_PHONE                                                              [1, 0]  \nFLAG_CONT_MOBILE                                                        [1, 0]  \nREG_REGION_NOT_LIVE_REGION                                              [0, 1]  \nREG_REGION_NOT_WORK_REGION                                              [0, 1]  \nLIVE_REGION_NOT_WORK_REGION                                             [0, 1]  \nFLAG_EMAIL                                                              [0, 1]  \nREGION_RATING_CLIENT                                                 [2, 1, 3]  \nREGION_RATING_CLIENT_W_CITY                                          [2, 1, 3]  \nCNT_CHILDREN                 [0, 1, 2, 3, 4, 7, 5, 6, 8, 9, 11, 12, 10, 19,...  \nHOUR_APPR_PROCESS_START      [10, 11, 9, 17, 16, 14, 8, 15, 7, 13, 6, 12, 1...  \nDAYS_ID_PUBLISH              [-2120, -291, -2531, -2437, -3458, -477, -619,...  \nDAYS_EMPLOYED                [-637, -1188, -225, -3039, -3038, -1588, -3130...  \nDAYS_BIRTH                   [-9461, -16765, -19046, -19005, -19932, -16941...  \nSK_ID_CURR                   [100002, 100003, 100004, 100006, 100007, 10000...  ",
      "text/html": "<div>\n<style scoped>\n    .dataframe tbody tr th:only-of-type {\n        vertical-align: middle;\n    }\n\n    .dataframe tbody tr th {\n        vertical-align: top;\n    }\n\n    .dataframe thead th {\n        text-align: right;\n    }\n</style>\n<table border=\"1\" class=\"dataframe\">\n  <thead>\n    <tr style=\"text-align: right;\">\n      <th></th>\n      <th>Nombre de valeur unique</th>\n      <th>valeur unique</th>\n    </tr>\n  </thead>\n  <tbody>\n    <tr>\n      <th>LIVE_CITY_NOT_WORK_CITY</th>\n      <td>2</td>\n      <td>[0, 1]</td>\n    </tr>\n    <tr>\n      <th>FLAG_DOCUMENT_3</th>\n      <td>2</td>\n      <td>[1, 0]</td>\n    </tr>\n    <tr>\n      <th>FLAG_DOCUMENT_4</th>\n      <td>2</td>\n      <td>[0, 1]</td>\n    </tr>\n    <tr>\n      <th>FLAG_DOCUMENT_5</th>\n      <td>2</td>\n      <td>[0, 1]</td>\n    </tr>\n    <tr>\n      <th>FLAG_DOCUMENT_6</th>\n      <td>2</td>\n      <td>[0, 1]</td>\n    </tr>\n    <tr>\n      <th>FLAG_DOCUMENT_7</th>\n      <td>2</td>\n      <td>[0, 1]</td>\n    </tr>\n    <tr>\n      <th>FLAG_DOCUMENT_8</th>\n      <td>2</td>\n      <td>[0, 1]</td>\n    </tr>\n    <tr>\n      <th>FLAG_DOCUMENT_9</th>\n      <td>2</td>\n      <td>[0, 1]</td>\n    </tr>\n    <tr>\n      <th>FLAG_DOCUMENT_10</th>\n      <td>2</td>\n      <td>[0, 1]</td>\n    </tr>\n    <tr>\n      <th>FLAG_DOCUMENT_11</th>\n      <td>2</td>\n      <td>[0, 1]</td>\n    </tr>\n    <tr>\n      <th>FLAG_DOCUMENT_12</th>\n      <td>2</td>\n      <td>[0, 1]</td>\n    </tr>\n    <tr>\n      <th>FLAG_DOCUMENT_13</th>\n      <td>2</td>\n      <td>[0, 1]</td>\n    </tr>\n    <tr>\n      <th>FLAG_DOCUMENT_14</th>\n      <td>2</td>\n      <td>[0, 1]</td>\n    </tr>\n    <tr>\n      <th>FLAG_DOCUMENT_15</th>\n      <td>2</td>\n      <td>[0, 1]</td>\n    </tr>\n    <tr>\n      <th>FLAG_DOCUMENT_16</th>\n      <td>2</td>\n      <td>[0, 1]</td>\n    </tr>\n    <tr>\n      <th>FLAG_DOCUMENT_17</th>\n      <td>2</td>\n      <td>[0, 1]</td>\n    </tr>\n    <tr>\n      <th>FLAG_DOCUMENT_18</th>\n      <td>2</td>\n      <td>[0, 1]</td>\n    </tr>\n    <tr>\n      <th>FLAG_DOCUMENT_19</th>\n      <td>2</td>\n      <td>[0, 1]</td>\n    </tr>\n    <tr>\n      <th>FLAG_DOCUMENT_2</th>\n      <td>2</td>\n      <td>[0, 1]</td>\n    </tr>\n    <tr>\n      <th>FLAG_DOCUMENT_20</th>\n      <td>2</td>\n      <td>[0, 1]</td>\n    </tr>\n    <tr>\n      <th>FLAG_DOCUMENT_21</th>\n      <td>2</td>\n      <td>[0, 1]</td>\n    </tr>\n    <tr>\n      <th>REG_CITY_NOT_LIVE_CITY</th>\n      <td>2</td>\n      <td>[0, 1]</td>\n    </tr>\n    <tr>\n      <th>TARGET</th>\n      <td>2</td>\n      <td>[1, 0]</td>\n    </tr>\n    <tr>\n      <th>FLAG_MOBIL</th>\n      <td>2</td>\n      <td>[1, 0]</td>\n    </tr>\n    <tr>\n      <th>FLAG_EMP_PHONE</th>\n      <td>2</td>\n      <td>[1, 0]</td>\n    </tr>\n    <tr>\n      <th>FLAG_WORK_PHONE</th>\n      <td>2</td>\n      <td>[0, 1]</td>\n    </tr>\n    <tr>\n      <th>REG_CITY_NOT_WORK_CITY</th>\n      <td>2</td>\n      <td>[0, 1]</td>\n    </tr>\n    <tr>\n      <th>FLAG_PHONE</th>\n      <td>2</td>\n      <td>[1, 0]</td>\n    </tr>\n    <tr>\n      <th>FLAG_CONT_MOBILE</th>\n      <td>2</td>\n      <td>[1, 0]</td>\n    </tr>\n    <tr>\n      <th>REG_REGION_NOT_LIVE_REGION</th>\n      <td>2</td>\n      <td>[0, 1]</td>\n    </tr>\n    <tr>\n      <th>REG_REGION_NOT_WORK_REGION</th>\n      <td>2</td>\n      <td>[0, 1]</td>\n    </tr>\n    <tr>\n      <th>LIVE_REGION_NOT_WORK_REGION</th>\n      <td>2</td>\n      <td>[0, 1]</td>\n    </tr>\n    <tr>\n      <th>FLAG_EMAIL</th>\n      <td>2</td>\n      <td>[0, 1]</td>\n    </tr>\n    <tr>\n      <th>REGION_RATING_CLIENT</th>\n      <td>3</td>\n      <td>[2, 1, 3]</td>\n    </tr>\n    <tr>\n      <th>REGION_RATING_CLIENT_W_CITY</th>\n      <td>3</td>\n      <td>[2, 1, 3]</td>\n    </tr>\n    <tr>\n      <th>CNT_CHILDREN</th>\n      <td>15</td>\n      <td>[0, 1, 2, 3, 4, 7, 5, 6, 8, 9, 11, 12, 10, 19,...</td>\n    </tr>\n    <tr>\n      <th>HOUR_APPR_PROCESS_START</th>\n      <td>24</td>\n      <td>[10, 11, 9, 17, 16, 14, 8, 15, 7, 13, 6, 12, 1...</td>\n    </tr>\n    <tr>\n      <th>DAYS_ID_PUBLISH</th>\n      <td>6168</td>\n      <td>[-2120, -291, -2531, -2437, -3458, -477, -619,...</td>\n    </tr>\n    <tr>\n      <th>DAYS_EMPLOYED</th>\n      <td>12574</td>\n      <td>[-637, -1188, -225, -3039, -3038, -1588, -3130...</td>\n    </tr>\n    <tr>\n      <th>DAYS_BIRTH</th>\n      <td>17460</td>\n      <td>[-9461, -16765, -19046, -19005, -19932, -16941...</td>\n    </tr>\n    <tr>\n      <th>SK_ID_CURR</th>\n      <td>307511</td>\n      <td>[100002, 100003, 100004, 100006, 100007, 10000...</td>\n    </tr>\n  </tbody>\n</table>\n</div>"
     },
     "execution_count": 173,
     "metadata": {},
     "output_type": "execute_result"
    }
   ],
   "source": [
    "data_int_infos = pd.DataFrame(data.select_dtypes(\"int64\").apply(pd.Series.nunique,axis=0),columns=[\"Nombre de valeur unique\"])\n",
    "data_int_infos[\"valeur unique\"] = data.select_dtypes(\"int64\").apply(pd.Series.unique,axis=0)\n",
    "data_int_infos.sort_values(by=\"Nombre de valeur unique\")"
   ],
   "metadata": {
    "collapsed": false,
    "pycharm": {
     "name": "#%%\n"
    }
   }
  },
  {
   "cell_type": "code",
   "execution_count": 174,
   "outputs": [
    {
     "data": {
      "text/plain": "                            Nombre de valeur unique  \\\nAMT_REQ_CREDIT_BUREAU_HOUR                        5   \nAMT_REQ_CREDIT_BUREAU_WEEK                        9   \nAMT_REQ_CREDIT_BUREAU_DAY                         9   \nDEF_60_CNT_SOCIAL_CIRCLE                          9   \nDEF_30_CNT_SOCIAL_CIRCLE                         10   \n...                                             ...   \nAMT_CREDIT                                     5603   \nAMT_ANNUITY                                   13672   \nDAYS_REGISTRATION                             15688   \nEXT_SOURCE_1                                 114584   \nEXT_SOURCE_2                                 119831   \n\n                                                                valeur unique  \nAMT_REQ_CREDIT_BUREAU_HOUR                     [0.0, nan, 1.0, 2.0, 3.0, 4.0]  \nAMT_REQ_CREDIT_BUREAU_WEEK  [0.0, nan, 1.0, 3.0, 2.0, 4.0, 5.0, 6.0, 8.0, ...  \nAMT_REQ_CREDIT_BUREAU_DAY   [0.0, nan, 1.0, 3.0, 2.0, 4.0, 5.0, 6.0, 9.0, ...  \nDEF_60_CNT_SOCIAL_CIRCLE    [2.0, 0.0, 1.0, nan, 3.0, 5.0, 4.0, 7.0, 24.0,...  \nDEF_30_CNT_SOCIAL_CIRCLE    [2.0, 0.0, 1.0, nan, 3.0, 4.0, 5.0, 6.0, 7.0, ...  \n...                                                                       ...  \nAMT_CREDIT                  [406597.5, 1293502.5, 135000.0, 312682.5, 5130...  \nAMT_ANNUITY                 [24700.5, 35698.5, 6750.0, 29686.5, 21865.5, 2...  \nDAYS_REGISTRATION           [-3648.0, -1186.0, -4260.0, -9833.0, -4311.0, ...  \nEXT_SOURCE_1                [0.0830369673913225, 0.3112673113812225, nan, ...  \nEXT_SOURCE_2                [0.2629485927471776, 0.6222457752555098, 0.555...  \n\n[65 rows x 2 columns]",
      "text/html": "<div>\n<style scoped>\n    .dataframe tbody tr th:only-of-type {\n        vertical-align: middle;\n    }\n\n    .dataframe tbody tr th {\n        vertical-align: top;\n    }\n\n    .dataframe thead th {\n        text-align: right;\n    }\n</style>\n<table border=\"1\" class=\"dataframe\">\n  <thead>\n    <tr style=\"text-align: right;\">\n      <th></th>\n      <th>Nombre de valeur unique</th>\n      <th>valeur unique</th>\n    </tr>\n  </thead>\n  <tbody>\n    <tr>\n      <th>AMT_REQ_CREDIT_BUREAU_HOUR</th>\n      <td>5</td>\n      <td>[0.0, nan, 1.0, 2.0, 3.0, 4.0]</td>\n    </tr>\n    <tr>\n      <th>AMT_REQ_CREDIT_BUREAU_WEEK</th>\n      <td>9</td>\n      <td>[0.0, nan, 1.0, 3.0, 2.0, 4.0, 5.0, 6.0, 8.0, ...</td>\n    </tr>\n    <tr>\n      <th>AMT_REQ_CREDIT_BUREAU_DAY</th>\n      <td>9</td>\n      <td>[0.0, nan, 1.0, 3.0, 2.0, 4.0, 5.0, 6.0, 9.0, ...</td>\n    </tr>\n    <tr>\n      <th>DEF_60_CNT_SOCIAL_CIRCLE</th>\n      <td>9</td>\n      <td>[2.0, 0.0, 1.0, nan, 3.0, 5.0, 4.0, 7.0, 24.0,...</td>\n    </tr>\n    <tr>\n      <th>DEF_30_CNT_SOCIAL_CIRCLE</th>\n      <td>10</td>\n      <td>[2.0, 0.0, 1.0, nan, 3.0, 4.0, 5.0, 6.0, 7.0, ...</td>\n    </tr>\n    <tr>\n      <th>...</th>\n      <td>...</td>\n      <td>...</td>\n    </tr>\n    <tr>\n      <th>AMT_CREDIT</th>\n      <td>5603</td>\n      <td>[406597.5, 1293502.5, 135000.0, 312682.5, 5130...</td>\n    </tr>\n    <tr>\n      <th>AMT_ANNUITY</th>\n      <td>13672</td>\n      <td>[24700.5, 35698.5, 6750.0, 29686.5, 21865.5, 2...</td>\n    </tr>\n    <tr>\n      <th>DAYS_REGISTRATION</th>\n      <td>15688</td>\n      <td>[-3648.0, -1186.0, -4260.0, -9833.0, -4311.0, ...</td>\n    </tr>\n    <tr>\n      <th>EXT_SOURCE_1</th>\n      <td>114584</td>\n      <td>[0.0830369673913225, 0.3112673113812225, nan, ...</td>\n    </tr>\n    <tr>\n      <th>EXT_SOURCE_2</th>\n      <td>119831</td>\n      <td>[0.2629485927471776, 0.6222457752555098, 0.555...</td>\n    </tr>\n  </tbody>\n</table>\n<p>65 rows × 2 columns</p>\n</div>"
     },
     "execution_count": 174,
     "metadata": {},
     "output_type": "execute_result"
    }
   ],
   "source": [
    "data_float_infos = pd.DataFrame(data.select_dtypes(\"float64\").apply(pd.Series.nunique,axis=0),columns=[\"Nombre de valeur unique\"])\n",
    "data_float_infos[\"valeur unique\"] = data.select_dtypes(\"float64\").apply(pd.Series.unique,axis=0)\n",
    "data_float_infos.sort_values(by=\"Nombre de valeur unique\")"
   ],
   "metadata": {
    "collapsed": false,
    "pycharm": {
     "name": "#%%\n"
    }
   }
  },
  {
   "cell_type": "markdown",
   "source": [
    "### Analyse des variables"
   ],
   "metadata": {
    "collapsed": false,
    "pycharm": {
     "name": "#%% md\n"
    }
   }
  },
  {
   "cell_type": "code",
   "execution_count": 175,
   "outputs": [],
   "source": [
    "#dth.drawPieplot(data, data.select_dtypes(\"object\").columns, (25,100))"
   ],
   "metadata": {
    "collapsed": false,
    "pycharm": {
     "name": "#%%\n"
    }
   }
  },
  {
   "cell_type": "code",
   "execution_count": 176,
   "outputs": [],
   "source": [
    "#dth.drawHistAndBoxPlot(data, data.select_dtypes(\"int64\").columns, (25,250))"
   ],
   "metadata": {
    "collapsed": false,
    "pycharm": {
     "name": "#%%\n"
    }
   }
  },
  {
   "cell_type": "code",
   "execution_count": 177,
   "outputs": [],
   "source": [
    "#dth.drawHistAndBoxPlot(data, data.select_dtypes(\"float64\").columns, (25,250))"
   ],
   "metadata": {
    "collapsed": false,
    "pycharm": {
     "name": "#%%\n"
    }
   }
  },
  {
   "cell_type": "code",
   "execution_count": 178,
   "outputs": [],
   "source": [
    "positive_target = data[data[\"TARGET\"]==1]\n",
    "negative_target = data[data['TARGET']==0]\n",
    "#dth.analyse_num_with_target_bin(positive_target, negative_target, 'TARGET')"
   ],
   "metadata": {
    "collapsed": false,
    "pycharm": {
     "name": "#%%\n"
    }
   }
  },
  {
   "cell_type": "markdown",
   "source": [
    "# Merge des fichiers, et création de nouvelles variables"
   ],
   "metadata": {
    "collapsed": false,
    "pycharm": {
     "name": "#%% md\n"
    }
   }
  },
  {
   "cell_type": "code",
   "execution_count": 179,
   "outputs": [],
   "source": [
    "data = data.append(test_data).reset_index()"
   ],
   "metadata": {
    "collapsed": false,
    "pycharm": {
     "name": "#%%\n"
    }
   }
  },
  {
   "cell_type": "code",
   "execution_count": 180,
   "outputs": [
    {
     "name": "stdout",
     "output_type": "stream",
     "text": [
      "data : 356255 lignes et 123 colonnes\n",
      "\n"
     ]
    }
   ],
   "source": [
    "dth.displayDataShape(\"data\", data)"
   ],
   "metadata": {
    "collapsed": false,
    "pycharm": {
     "name": "#%%\n"
    }
   }
  },
  {
   "cell_type": "markdown",
   "source": [
    "### Nettoyage\n",
    "On va ici supprimer les valeurs aberrantes"
   ],
   "metadata": {
    "collapsed": false
   }
  },
  {
   "cell_type": "code",
   "execution_count": 181,
   "outputs": [
    {
     "data": {
      "text/plain": "F      235126\nM      121125\nXNA         4\nName: CODE_GENDER, dtype: int64"
     },
     "execution_count": 181,
     "metadata": {},
     "output_type": "execute_result"
    }
   ],
   "source": [
    "data['CODE_GENDER'].value_counts()"
   ],
   "metadata": {
    "collapsed": false,
    "pycharm": {
     "name": "#%%\n"
    }
   }
  },
  {
   "cell_type": "markdown",
   "source": [
    "On supprime les 4 lignes qui ne contiennent pas de valeurs adéquates pour la variable 'CODE_GENDER'"
   ],
   "metadata": {
    "collapsed": false
   }
  },
  {
   "cell_type": "code",
   "execution_count": 182,
   "outputs": [],
   "source": [
    "data = data[data['CODE_GENDER'] != \"XNA\"]"
   ],
   "metadata": {
    "collapsed": false,
    "pycharm": {
     "name": "#%%\n"
    }
   }
  },
  {
   "cell_type": "code",
   "execution_count": 183,
   "outputs": [
    {
     "data": {
      "text/plain": "count    356251.000000\nmean      64317.999498\nstd      141706.142236\nmin      -17912.000000\n25%       -2781.000000\n50%       -1224.000000\n75%        -290.000000\nmax      365243.000000\nName: DAYS_EMPLOYED, dtype: float64"
     },
     "execution_count": 183,
     "metadata": {},
     "output_type": "execute_result"
    }
   ],
   "source": [
    "data['DAYS_EMPLOYED'].describe()"
   ],
   "metadata": {
    "collapsed": false,
    "pycharm": {
     "name": "#%%\n"
    }
   }
  },
  {
   "cell_type": "code",
   "execution_count": 184,
   "outputs": [
    {
     "data": {
      "text/plain": "<Figure size 432x288 with 1 Axes>",
      "image/png": "[encoded data removed]"
     },
     "metadata": {},
     "output_type": "display_data"
    }
   ],
   "source": [
    "data['DAYS_EMPLOYED'].plot.hist();"
   ],
   "metadata": {
    "collapsed": false,
    "pycharm": {
     "name": "#%%\n"
    }
   }
  },
  {
   "cell_type": "markdown",
   "source": [
    "Il ne doit y avoir que des valeurs négatives pour la variable 'DAYS_EMPLOYED', on remplace donc les valeurs aberrantes par la valeur NaN"
   ],
   "metadata": {
    "collapsed": false
   }
  },
  {
   "cell_type": "code",
   "execution_count": 185,
   "outputs": [],
   "source": [
    "data['DAYS_EMPLOYED'].replace(365243, np.nan, inplace= True)"
   ],
   "metadata": {
    "collapsed": false,
    "pycharm": {
     "name": "#%%\n"
    }
   }
  },
  {
   "cell_type": "code",
   "execution_count": 186,
   "outputs": [
    {
     "data": {
      "text/plain": "<Figure size 432x288 with 1 Axes>",
      "image/png": "[encoded data removed]"
     },
     "metadata": {},
     "output_type": "display_data"
    }
   ],
   "source": [
    "data['DAYS_EMPLOYED'].plot.hist();"
   ],
   "metadata": {
    "collapsed": false,
    "pycharm": {
     "name": "#%%\n"
    }
   }
  },
  {
   "cell_type": "markdown",
   "source": [
    "### Encodage des variables catégorielles\n",
    "blablablabla Explications ....... TODO"
   ],
   "metadata": {
    "collapsed": false,
    "pycharm": {
     "name": "#%% md\n"
    }
   }
  },
  {
   "cell_type": "code",
   "execution_count": 187,
   "outputs": [
    {
     "data": {
      "text/plain": "                             count  \\\nNAME_CONTRACT_TYPE          356251   \nCODE_GENDER                 356251   \nFLAG_OWN_CAR                356251   \nFLAG_OWN_REALTY             356251   \nNAME_TYPE_SUITE             354048   \nNAME_INCOME_TYPE            356251   \nNAME_EDUCATION_TYPE         356251   \nNAME_FAMILY_STATUS          356251   \nNAME_HOUSING_TYPE           356251   \nOCCUPATION_TYPE             244257   \nWEEKDAY_APPR_PROCESS_START  356251   \nORGANIZATION_TYPE           356251   \nFONDKAPREMONT_MODE          113161   \nHOUSETYPE_MODE              178336   \nWALLSMATERIAL_MODE          176018   \nEMERGENCYSTATE_MODE         188288   \n\n                                                                       unique  \\\nNAME_CONTRACT_TYPE                              [Cash loans, Revolving loans]   \nCODE_GENDER                                                            [M, F]   \nFLAG_OWN_CAR                                                           [N, Y]   \nFLAG_OWN_REALTY                                                        [Y, N]   \nNAME_TYPE_SUITE             [Unaccompanied, Family, Spouse, partner, Child...   \nNAME_INCOME_TYPE            [Working, State servant, Commercial associate,...   \nNAME_EDUCATION_TYPE         [Secondary / secondary special, Higher educati...   \nNAME_FAMILY_STATUS          [Single / not married, Married, Civil marriage...   \nNAME_HOUSING_TYPE           [House / apartment, Rented apartment, With par...   \nOCCUPATION_TYPE             [Laborers, Core staff, Accountants, Managers, ...   \nWEEKDAY_APPR_PROCESS_START  [WEDNESDAY, MONDAY, THURSDAY, SUNDAY, SATURDAY...   \nORGANIZATION_TYPE           [Business Entity Type 3, School, Government, R...   \nFONDKAPREMONT_MODE          [reg oper account, nan, org spec account, reg ...   \nHOUSETYPE_MODE              [block of flats, nan, terraced house, specific...   \nWALLSMATERIAL_MODE          [Stone, brick, Block, nan, Panel, Mixed, Woode...   \nEMERGENCYSTATE_MODE                                            [No, nan, Yes]   \n\n                                                      top    freq  nunique  \nNAME_CONTRACT_TYPE                             Cash loans  326537        2  \nCODE_GENDER                                             F  235126        2  \nFLAG_OWN_CAR                                            N  235233        2  \nFLAG_OWN_REALTY                                         Y  246966        2  \nNAME_TYPE_SUITE                             Unaccompanied  288250        7  \nNAME_INCOME_TYPE                                  Working  183304        8  \nNAME_EDUCATION_TYPE         Secondary / secondary special  252377        5  \nNAME_FAMILY_STATUS                                Married  228712        6  \nNAME_HOUSING_TYPE                       House / apartment  316510        6  \nOCCUPATION_TYPE                                  Laborers   63841       18  \nWEEKDAY_APPR_PROCESS_START                        TUESDAY   63651        7  \nORGANIZATION_TYPE                  Business Entity Type 3   78832       58  \nFONDKAPREMONT_MODE                       reg oper account   85953        4  \nHOUSETYPE_MODE                             block of flats  175159        3  \nWALLSMATERIAL_MODE                                  Panel   77308        7  \nEMERGENCYSTATE_MODE                                    No  185604        2  ",
      "text/html": "<div>\n<style scoped>\n    .dataframe tbody tr th:only-of-type {\n        vertical-align: middle;\n    }\n\n    .dataframe tbody tr th {\n        vertical-align: top;\n    }\n\n    .dataframe thead th {\n        text-align: right;\n    }\n</style>\n<table border=\"1\" class=\"dataframe\">\n  <thead>\n    <tr style=\"text-align: right;\">\n      <th></th>\n      <th>count</th>\n      <th>unique</th>\n      <th>top</th>\n      <th>freq</th>\n      <th>nunique</th>\n    </tr>\n  </thead>\n  <tbody>\n    <tr>\n      <th>NAME_CONTRACT_TYPE</th>\n      <td>356251</td>\n      <td>[Cash loans, Revolving loans]</td>\n      <td>Cash loans</td>\n      <td>326537</td>\n      <td>2</td>\n    </tr>\n    <tr>\n      <th>CODE_GENDER</th>\n      <td>356251</td>\n      <td>[M, F]</td>\n      <td>F</td>\n      <td>235126</td>\n      <td>2</td>\n    </tr>\n    <tr>\n      <th>FLAG_OWN_CAR</th>\n      <td>356251</td>\n      <td>[N, Y]</td>\n      <td>N</td>\n      <td>235233</td>\n      <td>2</td>\n    </tr>\n    <tr>\n      <th>FLAG_OWN_REALTY</th>\n      <td>356251</td>\n      <td>[Y, N]</td>\n      <td>Y</td>\n      <td>246966</td>\n      <td>2</td>\n    </tr>\n    <tr>\n      <th>NAME_TYPE_SUITE</th>\n      <td>354048</td>\n      <td>[Unaccompanied, Family, Spouse, partner, Child...</td>\n      <td>Unaccompanied</td>\n      <td>288250</td>\n      <td>7</td>\n    </tr>\n    <tr>\n      <th>NAME_INCOME_TYPE</th>\n      <td>356251</td>\n      <td>[Working, State servant, Commercial associate,...</td>\n      <td>Working</td>\n      <td>183304</td>\n      <td>8</td>\n    </tr>\n    <tr>\n      <th>NAME_EDUCATION_TYPE</th>\n      <td>356251</td>\n      <td>[Secondary / secondary special, Higher educati...</td>\n      <td>Secondary / secondary special</td>\n      <td>252377</td>\n      <td>5</td>\n    </tr>\n    <tr>\n      <th>NAME_FAMILY_STATUS</th>\n      <td>356251</td>\n      <td>[Single / not married, Married, Civil marriage...</td>\n      <td>Married</td>\n      <td>228712</td>\n      <td>6</td>\n    </tr>\n    <tr>\n      <th>NAME_HOUSING_TYPE</th>\n      <td>356251</td>\n      <td>[House / apartment, Rented apartment, With par...</td>\n      <td>House / apartment</td>\n      <td>316510</td>\n      <td>6</td>\n    </tr>\n    <tr>\n      <th>OCCUPATION_TYPE</th>\n      <td>244257</td>\n      <td>[Laborers, Core staff, Accountants, Managers, ...</td>\n      <td>Laborers</td>\n      <td>63841</td>\n      <td>18</td>\n    </tr>\n    <tr>\n      <th>WEEKDAY_APPR_PROCESS_START</th>\n      <td>356251</td>\n      <td>[WEDNESDAY, MONDAY, THURSDAY, SUNDAY, SATURDAY...</td>\n      <td>TUESDAY</td>\n      <td>63651</td>\n      <td>7</td>\n    </tr>\n    <tr>\n      <th>ORGANIZATION_TYPE</th>\n      <td>356251</td>\n      <td>[Business Entity Type 3, School, Government, R...</td>\n      <td>Business Entity Type 3</td>\n      <td>78832</td>\n      <td>58</td>\n    </tr>\n    <tr>\n      <th>FONDKAPREMONT_MODE</th>\n      <td>113161</td>\n      <td>[reg oper account, nan, org spec account, reg ...</td>\n      <td>reg oper account</td>\n      <td>85953</td>\n      <td>4</td>\n    </tr>\n    <tr>\n      <th>HOUSETYPE_MODE</th>\n      <td>178336</td>\n      <td>[block of flats, nan, terraced house, specific...</td>\n      <td>block of flats</td>\n      <td>175159</td>\n      <td>3</td>\n    </tr>\n    <tr>\n      <th>WALLSMATERIAL_MODE</th>\n      <td>176018</td>\n      <td>[Stone, brick, Block, nan, Panel, Mixed, Woode...</td>\n      <td>Panel</td>\n      <td>77308</td>\n      <td>7</td>\n    </tr>\n    <tr>\n      <th>EMERGENCYSTATE_MODE</th>\n      <td>188288</td>\n      <td>[No, nan, Yes]</td>\n      <td>No</td>\n      <td>185604</td>\n      <td>2</td>\n    </tr>\n  </tbody>\n</table>\n</div>"
     },
     "execution_count": 187,
     "metadata": {},
     "output_type": "execute_result"
    }
   ],
   "source": [
    "data_object_infos = data.select_dtypes(\"object\").describe().T\n",
    "data_object_infos[\"unique\"] = data.select_dtypes(\"object\").apply( pd.Series.unique, axis=0)\n",
    "data_object_infos[\"nunique\"] = data.select_dtypes(\"object\").apply( pd.Series.nunique, axis=0)\n",
    "data_object_infos"
   ],
   "metadata": {
    "collapsed": false,
    "pycharm": {
     "name": "#%%\n"
    }
   }
  },
  {
   "cell_type": "code",
   "execution_count": 188,
   "outputs": [],
   "source": [
    "# Object label encoder\n",
    "le = LabelEncoder()\n",
    "le_count = 0\n",
    "col_encoded = []\n",
    "\n",
    "for col in data:\n",
    "    if data[col].dtype == 'object':\n",
    "        if len(list(data[col].unique())) <= 2:\n",
    "            le.fit(data[col])\n",
    "            data[col] = le.transform(data[col])\n",
    "            le_count += 1\n",
    "            col_encoded.append(col)\n",
    "\n"
   ],
   "metadata": {
    "collapsed": false,
    "pycharm": {
     "name": "#%%\n"
    }
   }
  },
  {
   "cell_type": "code",
   "execution_count": 189,
   "outputs": [
    {
     "name": "stdout",
     "output_type": "stream",
     "text": [
      "131 colonnes on été \"one hot encoded\" :\n",
      "- NAME_TYPE_SUITE_Children\n",
      "- NAME_TYPE_SUITE_Family\n",
      "- NAME_TYPE_SUITE_Group of people\n",
      "- NAME_TYPE_SUITE_Other_A\n",
      "- NAME_TYPE_SUITE_Other_B\n",
      "- NAME_TYPE_SUITE_Spouse, partner\n",
      "- NAME_TYPE_SUITE_Unaccompanied\n",
      "- NAME_INCOME_TYPE_Businessman\n",
      "- NAME_INCOME_TYPE_Commercial associate\n",
      "- NAME_INCOME_TYPE_Maternity leave\n",
      "- NAME_INCOME_TYPE_Pensioner\n",
      "- NAME_INCOME_TYPE_State servant\n",
      "- NAME_INCOME_TYPE_Student\n",
      "- NAME_INCOME_TYPE_Unemployed\n",
      "- NAME_INCOME_TYPE_Working\n",
      "- NAME_EDUCATION_TYPE_Academic degree\n",
      "- NAME_EDUCATION_TYPE_Higher education\n",
      "- NAME_EDUCATION_TYPE_Incomplete higher\n",
      "- NAME_EDUCATION_TYPE_Lower secondary\n",
      "- NAME_EDUCATION_TYPE_Secondary / secondary special\n",
      "- NAME_FAMILY_STATUS_Civil marriage\n",
      "- NAME_FAMILY_STATUS_Married\n",
      "- NAME_FAMILY_STATUS_Separated\n",
      "- NAME_FAMILY_STATUS_Single / not married\n",
      "- NAME_FAMILY_STATUS_Unknown\n",
      "- NAME_FAMILY_STATUS_Widow\n",
      "- NAME_HOUSING_TYPE_Co-op apartment\n",
      "- NAME_HOUSING_TYPE_House / apartment\n",
      "- NAME_HOUSING_TYPE_Municipal apartment\n",
      "- NAME_HOUSING_TYPE_Office apartment\n",
      "- NAME_HOUSING_TYPE_Rented apartment\n",
      "- NAME_HOUSING_TYPE_With parents\n",
      "- OCCUPATION_TYPE_Accountants\n",
      "- OCCUPATION_TYPE_Cleaning staff\n",
      "- OCCUPATION_TYPE_Cooking staff\n",
      "- OCCUPATION_TYPE_Core staff\n",
      "- OCCUPATION_TYPE_Drivers\n",
      "- OCCUPATION_TYPE_HR staff\n",
      "- OCCUPATION_TYPE_High skill tech staff\n",
      "- OCCUPATION_TYPE_IT staff\n",
      "- OCCUPATION_TYPE_Laborers\n",
      "- OCCUPATION_TYPE_Low-skill Laborers\n",
      "- OCCUPATION_TYPE_Managers\n",
      "- OCCUPATION_TYPE_Medicine staff\n",
      "- OCCUPATION_TYPE_Private service staff\n",
      "- OCCUPATION_TYPE_Realty agents\n",
      "- OCCUPATION_TYPE_Sales staff\n",
      "- OCCUPATION_TYPE_Secretaries\n",
      "- OCCUPATION_TYPE_Security staff\n",
      "- OCCUPATION_TYPE_Waiters/barmen staff\n",
      "- WEEKDAY_APPR_PROCESS_START_FRIDAY\n",
      "- WEEKDAY_APPR_PROCESS_START_MONDAY\n",
      "- WEEKDAY_APPR_PROCESS_START_SATURDAY\n",
      "- WEEKDAY_APPR_PROCESS_START_SUNDAY\n",
      "- WEEKDAY_APPR_PROCESS_START_THURSDAY\n",
      "- WEEKDAY_APPR_PROCESS_START_TUESDAY\n",
      "- WEEKDAY_APPR_PROCESS_START_WEDNESDAY\n",
      "- ORGANIZATION_TYPE_Advertising\n",
      "- ORGANIZATION_TYPE_Agriculture\n",
      "- ORGANIZATION_TYPE_Bank\n",
      "- ORGANIZATION_TYPE_Business Entity Type 1\n",
      "- ORGANIZATION_TYPE_Business Entity Type 2\n",
      "- ORGANIZATION_TYPE_Business Entity Type 3\n",
      "- ORGANIZATION_TYPE_Cleaning\n",
      "- ORGANIZATION_TYPE_Construction\n",
      "- ORGANIZATION_TYPE_Culture\n",
      "- ORGANIZATION_TYPE_Electricity\n",
      "- ORGANIZATION_TYPE_Emergency\n",
      "- ORGANIZATION_TYPE_Government\n",
      "- ORGANIZATION_TYPE_Hotel\n",
      "- ORGANIZATION_TYPE_Housing\n",
      "- ORGANIZATION_TYPE_Industry: type 1\n",
      "- ORGANIZATION_TYPE_Industry: type 10\n",
      "- ORGANIZATION_TYPE_Industry: type 11\n",
      "- ORGANIZATION_TYPE_Industry: type 12\n",
      "- ORGANIZATION_TYPE_Industry: type 13\n",
      "- ORGANIZATION_TYPE_Industry: type 2\n",
      "- ORGANIZATION_TYPE_Industry: type 3\n",
      "- ORGANIZATION_TYPE_Industry: type 4\n",
      "- ORGANIZATION_TYPE_Industry: type 5\n",
      "- ORGANIZATION_TYPE_Industry: type 6\n",
      "- ORGANIZATION_TYPE_Industry: type 7\n",
      "- ORGANIZATION_TYPE_Industry: type 8\n",
      "- ORGANIZATION_TYPE_Industry: type 9\n",
      "- ORGANIZATION_TYPE_Insurance\n",
      "- ORGANIZATION_TYPE_Kindergarten\n",
      "- ORGANIZATION_TYPE_Legal Services\n",
      "- ORGANIZATION_TYPE_Medicine\n",
      "- ORGANIZATION_TYPE_Military\n",
      "- ORGANIZATION_TYPE_Mobile\n",
      "- ORGANIZATION_TYPE_Other\n",
      "- ORGANIZATION_TYPE_Police\n",
      "- ORGANIZATION_TYPE_Postal\n",
      "- ORGANIZATION_TYPE_Realtor\n",
      "- ORGANIZATION_TYPE_Religion\n",
      "- ORGANIZATION_TYPE_Restaurant\n",
      "- ORGANIZATION_TYPE_School\n",
      "- ORGANIZATION_TYPE_Security\n",
      "- ORGANIZATION_TYPE_Security Ministries\n",
      "- ORGANIZATION_TYPE_Self-employed\n",
      "- ORGANIZATION_TYPE_Services\n",
      "- ORGANIZATION_TYPE_Telecom\n",
      "- ORGANIZATION_TYPE_Trade: type 1\n",
      "- ORGANIZATION_TYPE_Trade: type 2\n",
      "- ORGANIZATION_TYPE_Trade: type 3\n",
      "- ORGANIZATION_TYPE_Trade: type 4\n",
      "- ORGANIZATION_TYPE_Trade: type 5\n",
      "- ORGANIZATION_TYPE_Trade: type 6\n",
      "- ORGANIZATION_TYPE_Trade: type 7\n",
      "- ORGANIZATION_TYPE_Transport: type 1\n",
      "- ORGANIZATION_TYPE_Transport: type 2\n",
      "- ORGANIZATION_TYPE_Transport: type 3\n",
      "- ORGANIZATION_TYPE_Transport: type 4\n",
      "- ORGANIZATION_TYPE_University\n",
      "- ORGANIZATION_TYPE_XNA\n",
      "- FONDKAPREMONT_MODE_not specified\n",
      "- FONDKAPREMONT_MODE_org spec account\n",
      "- FONDKAPREMONT_MODE_reg oper account\n",
      "- FONDKAPREMONT_MODE_reg oper spec account\n",
      "- HOUSETYPE_MODE_block of flats\n",
      "- HOUSETYPE_MODE_specific housing\n",
      "- HOUSETYPE_MODE_terraced house\n",
      "- WALLSMATERIAL_MODE_Block\n",
      "- WALLSMATERIAL_MODE_Mixed\n",
      "- WALLSMATERIAL_MODE_Monolithic\n",
      "- WALLSMATERIAL_MODE_Others\n",
      "- WALLSMATERIAL_MODE_Panel\n",
      "- WALLSMATERIAL_MODE_Stone, brick\n",
      "- WALLSMATERIAL_MODE_Wooden\n",
      "- EMERGENCYSTATE_MODE_No\n",
      "- EMERGENCYSTATE_MODE_Yes\n"
     ]
    }
   ],
   "source": [
    "data, cols_one_hot_encoded = dth.one_hot_encoder(data, False)\n",
    "print(f'{len(cols_one_hot_encoded)} colonnes on été \"one hot encoded\" :')\n",
    "for col in cols_one_hot_encoded:\n",
    "    print(f\"- {col}\")"
   ],
   "metadata": {
    "collapsed": false,
    "pycharm": {
     "name": "#%%\n"
    }
   }
  },
  {
   "cell_type": "code",
   "execution_count": 190,
   "outputs": [
    {
     "name": "stdout",
     "output_type": "stream",
     "text": [
      "Data après l'encodage : 356251 lignes et 242 colonnes\n",
      "\n"
     ]
    }
   ],
   "source": [
    "dth.displayDataShape(\"Data après l'encodage\", data)"
   ],
   "metadata": {
    "collapsed": false,
    "pycharm": {
     "name": "#%%\n"
    }
   }
  },
  {
   "cell_type": "markdown",
   "source": [
    "### Création de nouvelles features"
   ],
   "metadata": {
    "collapsed": false,
    "pycharm": {
     "name": "#%% md\n"
    }
   }
  },
  {
   "cell_type": "code",
   "execution_count": 191,
   "outputs": [
    {
     "data": {
      "text/plain": "7491"
     },
     "execution_count": 191,
     "metadata": {},
     "output_type": "execute_result"
    }
   ],
   "source": [
    "data['DAYS_EMPLOYED_PERC'] = data['DAYS_EMPLOYED'] / data['DAYS_BIRTH']\n",
    "data['INCOME_CREDIT_PERC'] = data['AMT_INCOME_TOTAL'] / data['AMT_CREDIT']\n",
    "data['INCOME_PER_PERSON'] = data['AMT_INCOME_TOTAL'] / data['CNT_FAM_MEMBERS']\n",
    "data['ANNUITY_INCOME_PERC'] = data['AMT_ANNUITY'] / data['AMT_INCOME_TOTAL']\n",
    "data['PAYMENT_RATE'] = data['AMT_ANNUITY'] / data['AMT_CREDIT']\n",
    "del test_data\n",
    "gc.collect()"
   ],
   "metadata": {
    "collapsed": false,
    "pycharm": {
     "name": "#%%\n"
    }
   }
  },
  {
   "cell_type": "markdown",
   "source": [
    "### Fusion des autres fichiers, encodage et créations d'autres variables\n",
    "On reprend le même principe pour les autres fichiers et on les ajoute à notre fichier de data. La jonction se fait grâce au **SK_ID_CURR**"
   ],
   "metadata": {
    "collapsed": false,
    "pycharm": {
     "name": "#%% md\n"
    }
   }
  },
  {
   "cell_type": "markdown",
   "source": [
    "Fichiers **Bureau et bureau_balance**"
   ],
   "metadata": {
    "collapsed": false,
    "pycharm": {
     "name": "#%% md\n"
    }
   }
  },
  {
   "cell_type": "code",
   "execution_count": 192,
   "outputs": [
    {
     "name": "stdout",
     "output_type": "stream",
     "text": [
      "Bureau : 305811 lignes et 116 colonnes\n",
      "\n"
     ]
    },
    {
     "data": {
      "text/plain": "0"
     },
     "execution_count": 192,
     "metadata": {},
     "output_type": "execute_result"
    }
   ],
   "source": [
    "bureau = pd.read_csv('data/bureau.csv')\n",
    "bb = pd.read_csv('data/bureau_balance.csv')\n",
    "\n",
    "bureau = dth.bureau_and_balance(bureau, bb)\n",
    "\n",
    "dth.displayDataShape(\"Bureau data\", bureau)\n",
    "data = data.join(bureau, how='left', on='SK_ID_CURR')\n",
    "del bureau\n",
    "gc.collect()"
   ],
   "metadata": {
    "collapsed": false,
    "pycharm": {
     "name": "#%%\n"
    }
   }
  },
  {
   "cell_type": "markdown",
   "source": [
    "Fichier **previous_application**"
   ],
   "metadata": {
    "collapsed": false,
    "pycharm": {
     "name": "#%% md\n"
    }
   }
  },
  {
   "cell_type": "code",
   "execution_count": 194,
   "outputs": [
    {
     "name": "stdout",
     "output_type": "stream",
     "text": [
      "Previous application data : 338857 lignes et 249 colonnes\n",
      "\n"
     ]
    },
    {
     "data": {
      "text/plain": "0"
     },
     "execution_count": 194,
     "metadata": {},
     "output_type": "execute_result"
    }
   ],
   "source": [
    "prev = pd.read_csv('data/previous_application.csv')\n",
    "\n",
    "prev = dth.previous_applications(prev)\n",
    "\n",
    "dth.displayDataShape(\"Previous application data\", prev)\n",
    "data = data.join(prev, how='left', on='SK_ID_CURR')\n",
    "del prev\n",
    "gc.collect()"
   ],
   "metadata": {
    "collapsed": false,
    "pycharm": {
     "name": "#%%\n"
    }
   }
  },
  {
   "cell_type": "markdown",
   "source": [
    "Fichier **POS-CASH balance**"
   ],
   "metadata": {
    "collapsed": false,
    "pycharm": {
     "name": "#%% md\n"
    }
   }
  },
  {
   "cell_type": "code",
   "execution_count": 195,
   "outputs": [
    {
     "name": "stdout",
     "output_type": "stream",
     "text": [
      "POS-CASH balance data : 337252 lignes et 18 colonnes\n",
      "\n"
     ]
    },
    {
     "data": {
      "text/plain": "0"
     },
     "execution_count": 195,
     "metadata": {},
     "output_type": "execute_result"
    }
   ],
   "source": [
    "pos = pd.read_csv('data/POS_CASH_balance.csv')\n",
    "\n",
    "pos = dth.pos_cash(pos)\n",
    "\n",
    "dth.displayDataShape(\"POS-CASH balance data\", pos)\n",
    "data = data.join(pos, how='left', on='SK_ID_CURR')\n",
    "del pos\n",
    "gc.collect()"
   ],
   "metadata": {
    "collapsed": false,
    "pycharm": {
     "name": "#%%\n"
    }
   }
  },
  {
   "cell_type": "markdown",
   "source": [
    "Fichier **installments payments**"
   ],
   "metadata": {
    "collapsed": false,
    "pycharm": {
     "name": "#%% md\n"
    }
   }
  },
  {
   "cell_type": "code",
   "execution_count": 196,
   "outputs": [
    {
     "name": "stdout",
     "output_type": "stream",
     "text": [
      "Installments payments data : 339587 lignes et 26 colonnes\n",
      "\n"
     ]
    },
    {
     "data": {
      "text/plain": "0"
     },
     "execution_count": 196,
     "metadata": {},
     "output_type": "execute_result"
    }
   ],
   "source": [
    "ins = pd.read_csv('data/installments_payments.csv')\n",
    "\n",
    "ins = dth.installments_payments(ins)\n",
    "\n",
    "dth.displayDataShape(\"Installments payments data\", ins)\n",
    "data = data.join(ins, how='left', on='SK_ID_CURR')\n",
    "del ins\n",
    "gc.collect()"
   ],
   "metadata": {
    "collapsed": false,
    "pycharm": {
     "name": "#%%\n"
    }
   }
  },
  {
   "cell_type": "markdown",
   "source": [
    "Fichier **credit card balance**"
   ],
   "metadata": {
    "collapsed": false,
    "pycharm": {
     "name": "#%% md\n"
    }
   }
  },
  {
   "cell_type": "code",
   "execution_count": 197,
   "outputs": [
    {
     "name": "stdout",
     "output_type": "stream",
     "text": [
      "Credit card balance data : 103558 lignes et 141 colonnes\n",
      "\n"
     ]
    },
    {
     "data": {
      "text/plain": "0"
     },
     "execution_count": 197,
     "metadata": {},
     "output_type": "execute_result"
    }
   ],
   "source": [
    "cc = pd.read_csv('data/credit_card_balance.csv')\n",
    "\n",
    "cc = dth.credit_card_balance(cc)\n",
    "\n",
    "dth.displayDataShape(\"Credit card balance data\", cc)\n",
    "data = data.join(cc, how='left', on='SK_ID_CURR')\n",
    "del cc\n",
    "gc.collect()"
   ],
   "metadata": {
    "collapsed": false,
    "pycharm": {
     "name": "#%%\n"
    }
   }
  }
 ],
 "metadata": {
  "kernelspec": {
   "display_name": "Python 3 (ipykernel)",
   "language": "python",
   "name": "python3"
  },
  "language_info": {
   "codemirror_mode": {
    "name": "ipython",
    "version": 3
   },
   "file_extension": ".py",
   "mimetype": "text/x-python",
   "name": "python",
   "nbconvert_exporter": "python",
   "pygments_lexer": "ipython3",
   "version": "3.8.12"
  }
 },
 "nbformat": 4,
 "nbformat_minor": 1
}